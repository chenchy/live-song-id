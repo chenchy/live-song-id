{
 "cells": [
  {
   "cell_type": "code",
   "execution_count": 1,
   "metadata": {
    "collapsed": true
   },
   "outputs": [],
   "source": [
    "# Set the experiment name to be something meaningful. \n",
    "# It will be part of the name of the model to be saved.\n",
    "EXPERIMENT_NAME = \"[HashNet]\""
   ]
  },
  {
   "cell_type": "code",
   "execution_count": 2,
   "metadata": {
    "scrolled": true
   },
   "outputs": [
    {
     "name": "stderr",
     "output_type": "stream",
     "text": [
      "/home/mjenrungrot/anaconda3/lib/python3.6/importlib/_bootstrap.py:219: RuntimeWarning: compiletime version 3.5 of module 'tensorflow.python.framework.fast_tensor_util' does not match runtime version 3.6\n",
      "  return f(*args, **kwds)\n",
      "/home/mjenrungrot/anaconda3/lib/python3.6/site-packages/h5py/__init__.py:34: FutureWarning: Conversion of the second argument of issubdtype from `float` to `np.floating` is deprecated. In future, it will be treated as `np.float64 == np.dtype(float).type`.\n",
      "  from ._conv import register_converters as _register_converters\n",
      "Using TensorFlow backend.\n"
     ]
    }
   ],
   "source": [
    "from IPython.display import SVG\n",
    "\n",
    "import tensorflow as tf\n",
    "from keras.datasets import mnist\n",
    "from keras.preprocessing.image import ImageDataGenerator\n",
    "from keras.models import Sequential, Model\n",
    "from keras.layers.core import Activation, Flatten, Dense, Dropout\n",
    "from keras.layers.convolutional import Convolution2D, MaxPooling2D, ZeroPadding2D\n",
    "from keras.layers import Input, Concatenate, Layer\n",
    "from keras.applications import vgg19\n",
    "from keras.utils import plot_model\n",
    "from keras.optimizers import RMSprop, Adam\n",
    "from keras import backend as K\n",
    "from keras.utils.vis_utils import model_to_dot\n",
    "\n",
    "import sys\n",
    "import datetime\n",
    "import keras\n",
    "import pickle\n",
    "import logging\n",
    "import h5py\n",
    "import numpy as np\n",
    "import librosa\n",
    "import matplotlib.pyplot as plt\n",
    "from scipy import ndimage\n",
    "import scipy.io\n",
    "\n",
    "from songdb import data_dict\n",
    "from preprocess import preprocess\n",
    "from model import build_model\n",
    "\n",
    "%matplotlib inline"
   ]
  },
  {
   "cell_type": "code",
   "execution_count": 3,
   "metadata": {
    "collapsed": true
   },
   "outputs": [],
   "source": [
    "DEBUG = True\n",
    "verbose = False\n",
    "logger = logging.getLogger()\n",
    "\n",
    "# File Handler\n",
    "fhandler = logging.FileHandler(filename='HashNet.log', mode='w')\n",
    "formatter = logging.Formatter('%(asctime)s - %(name)s - %(levelname)s - %(message)s')\n",
    "fhandler.setFormatter(formatter)\n",
    "logger.addHandler(fhandler)\n",
    "\n",
    "# Output stream Handler\n",
    "ch = logging.StreamHandler(sys.stdout)\n",
    "ch.setFormatter(formatter)\n",
    "logger.addHandler(ch)\n",
    "\n",
    "if DEBUG: \n",
    "    logger.setLevel(logging.DEBUG)\n",
    "    ch.setLevel(logging.DEBUG)\n",
    "else:     \n",
    "    logger.setLeveL(logging.INFO)\n",
    "    ch.setLevel(logging.INFO)"
   ]
  },
  {
   "cell_type": "markdown",
   "metadata": {},
   "source": [
    "## Config Keras\n",
    "\n",
    "In this code, we will use tensorflow backend on Keras because it's relatively faster than Theano. We'll use the image data format in the form of `(n_channel, width, height)`. Please look at the Keras documentation for more details."
   ]
  },
  {
   "cell_type": "code",
   "execution_count": 4,
   "metadata": {},
   "outputs": [
    {
     "name": "stdout",
     "output_type": "stream",
     "text": [
      "2018-03-04 23:25:39,471 - root - DEBUG - Keras backend is tensorflow.\n",
      "2018-03-04 23:25:39,473 - root - DEBUG - Keras image data format is channels_first\n"
     ]
    }
   ],
   "source": [
    "assert K.backend() == 'tensorflow'\n",
    "logger.debug(\"Keras backend is tensorflow.\")\n",
    "\n",
    "K.set_image_data_format('channels_first')\n",
    "assert K.image_data_format() == 'channels_first'\n",
    "logger.debug(\"Keras image data format is channels_first\")"
   ]
  },
  {
   "cell_type": "markdown",
   "metadata": {},
   "source": [
    "## Load dataset\n",
    "We load the pair-annotation dataset. `pairedData` is the dataset of shape `(number_of_pairs, 2, 76, 121)`."
   ]
  },
  {
   "cell_type": "code",
   "execution_count": 5,
   "metadata": {},
   "outputs": [
    {
     "name": "stdout",
     "output_type": "stream",
     "text": [
      "2018-03-04 23:25:39,527 - root - DEBUG - Load Paired-annotation data\n",
      "2018-03-04 23:25:39,528 - root - DEBUG - \t data.type = <class 'dict'>\n",
      "2018-03-04 23:25:39,529 - root - DEBUG - \t data = {'taylorswift': <generator object get_ref_query_pairs at 0x7fbafe845888>}\n"
     ]
    },
    {
     "name": "stderr",
     "output_type": "stream",
     "text": [
      "/home/mjenrungrot/anaconda3/lib/python3.6/site-packages/librosa/util/utils.py:1725: FutureWarning: Conversion of the second argument of issubdtype from `float` to `np.floating` is deprecated. In future, it will be treated as `np.float64 == np.dtype(float).type`.\n",
      "  if np.issubdtype(x.dtype, float) or np.issubdtype(x.dtype, complex):\n",
      "/home/mjenrungrot/anaconda3/lib/python3.6/site-packages/librosa/util/utils.py:1725: FutureWarning: Conversion of the second argument of issubdtype from `complex` to `np.complexfloating` is deprecated. In future, it will be treated as `np.complex128 == np.dtype(complex).type`.\n",
      "  if np.issubdtype(x.dtype, float) or np.issubdtype(x.dtype, complex):\n",
      "/home/mjenrungrot/anaconda3/lib/python3.6/site-packages/librosa/util/utils.py:1725: FutureWarning: Conversion of the second argument of issubdtype from `float` to `np.floating` is deprecated. In future, it will be treated as `np.float64 == np.dtype(float).type`.\n",
      "  if np.issubdtype(x.dtype, float) or np.issubdtype(x.dtype, complex):\n",
      "/home/mjenrungrot/anaconda3/lib/python3.6/site-packages/librosa/util/utils.py:1725: FutureWarning: Conversion of the second argument of issubdtype from `complex` to `np.complexfloating` is deprecated. In future, it will be treated as `np.complex128 == np.dtype(complex).type`.\n",
      "  if np.issubdtype(x.dtype, float) or np.issubdtype(x.dtype, complex):\n"
     ]
    },
    {
     "name": "stdout",
     "output_type": "stream",
     "text": [
      "2018-03-04 23:26:01,654 - root - DEBUG - Finish ref.shape = [[    0     0     0 ...  1565  1927  2161]\n",
      " [-8822 -7639 -5306 ... -1938 -1163  -508]\n",
      " [ 6501  7379  7117 ... -3154 -3631 -4131]\n",
      " ...\n",
      " [-3321 -3112  1536 ...   358  -210   -17]\n",
      " [-4061 -4671 -5493 ...  2165  1801  1558]\n",
      " [ 1113  1304  1119 ...   489   614   483]]; query.shape = [[-2272 -1323    91 ...  3518  3913  3962]\n",
      " [ 2157  2058  2125 ...  1892  2977  3573]\n",
      " [  536   824   422 ...  2014  2054  2173]\n",
      " ...\n",
      " [ 2369  1726  -142 ...   689   746   671]\n",
      " [ 1684   673  1043 ...    82 -1499  -588]\n",
      " [ -350  -551  -903 ...  1930 -2946  2019]]\n",
      "2018-03-04 23:26:01,656 - root - DEBUG - pairedData.shape = (273, 2, 76, 121)\n",
      "2018-03-04 23:26:26,853 - root - DEBUG - Finish ref.shape = [[  982    -8 -1733 ...  5221  5406  5750]\n",
      " [ 4853  4249  3595 ... -2855 -3029 -3431]\n",
      " [ 3264  3743  4408 ...  4153  4774  4528]\n",
      " ...\n",
      " [-3321 -3112  1536 ...   358  -210   -17]\n",
      " [-4061 -4671 -5493 ...  2165  1801  1558]\n",
      " [ 1113  1304  1119 ...   489   614   483]]; query.shape = [[  -557  -2326  -4030 ...   8692   6253   2162]\n",
      " [ -8197 -10863 -12181 ...   8762   8818   7218]\n",
      " [-11866 -10598  -7266 ...   2932   3667   3828]\n",
      " ...\n",
      " [  5226   3245   6619 ...  -3136  -3684  -3268]\n",
      " [  5116   6005   7253 ...   6148   5265   3479]\n",
      " [  -159   -413   -294 ...    399   2296   3005]]\n",
      "2018-03-04 23:26:26,855 - root - DEBUG - pairedData.shape = (537, 2, 76, 121)\n",
      "2018-03-04 23:26:37,215 - root - DEBUG - Finish ref.shape = [[ -3949  -3130  -4567 ...  19231  14913  22213]\n",
      " [  -172   -572   -903 ...    284   2420   1678]\n",
      " [ -3972  -3478  -2492 ...  15321  12789  10885]\n",
      " ...\n",
      " [  9724   7885   7993 ...  -2984   2838   9309]\n",
      " [ -3243  -3973 -10700 ...   5925   8249   9288]\n",
      " [  8507   1779  -4188 ...  21414  20108  22621]]; query.shape = [[  9940   7561   5332 ...   1977   6777   5508]\n",
      " [ -3566  -3995  -2852 ... -13521 -12393  -9024]\n",
      " [  2605   -381   3757 ...  -5088  -3049  -5818]\n",
      " ...\n",
      " [ -3082   -885   -217 ...  -1683  -5946  -7880]\n",
      " [ -4617  -1505  -3368 ...  -1926  -1912  -5854]\n",
      " [  6670   6983   5152 ... -10507  -9304  -6775]]\n",
      "2018-03-04 23:26:37,217 - root - DEBUG - pairedData.shape = (637, 2, 76, 121)\n",
      "2018-03-04 23:26:48,134 - root - DEBUG - Finish ref.shape = [[ -4987  -2123  -1528 ...  -4414     15   4075]\n",
      " [ -2692  -3609  -3051 ...  -3357  -3106  -3098]\n",
      " [ -2571  -2503  -2187 ...  -1799    407   1845]\n",
      " ...\n",
      " [  5686   4482   3623 ...    337    943  -4596]\n",
      " [-10175  -7648  -9949 ...  30492  29897  28042]\n",
      " [  8846   6749   3861 ...    445    998   1382]]; query.shape = [[    0     0     0 ...  5843  7869  6228]\n",
      " [-5405 -6263 -8016 ... -3287 -3889 -4856]\n",
      " [-3173 -8419 -9138 ...  7470  5362  4667]\n",
      " ...\n",
      " [-1865  -198  2928 ... 13690 12406 10511]\n",
      " [ 2297  2240   837 ... -2368  -193 -1617]\n",
      " [ 2574 -1346 -4290 ... -7001 -1884  3050]]\n",
      "2018-03-04 23:26:48,135 - root - DEBUG - pairedData.shape = (737, 2, 76, 121)\n",
      "(736, 2, 76, 121)\n",
      "2018-03-04 23:26:48,137 - root - DEBUG - Finish loading paired-annotation data\n",
      "2018-03-04 23:26:48,138 - root - DEBUG - => There are 736 pairs of shape (76,121)\n"
     ]
    }
   ],
   "source": [
    "logger.debug(\"Load Paired-annotation data\")\n",
    "data = data_dict()\n",
    "logger.debug(\"\\t data.type = {:}\".format(type(data)))\n",
    "logger.debug(\"\\t data = {:}\".format(data))\n",
    "ref_query_pairs = data['taylorswift']\n",
    "\n",
    "pairedData = np.array([np.zeros((2, 76, 121))])\n",
    "for ref, query in ref_query_pairs:\n",
    "    for i in range(ref.shape[0]):\n",
    "        refQ = preprocess(librosa.cqt(np.asfarray(ref[i], dtype='float32'), sr = 22050, fmin=130.81, n_bins=121, bins_per_octave=24, hop_length=96), 3).T\n",
    "        queryQ = preprocess(librosa.cqt(np.asfarray(query[i], dtype='float32'), sr = 22050, fmin=130.81, n_bins=121, bins_per_octave=24, hop_length=96), 3).T\n",
    "        Q = np.append(np.array([refQ]), np.array([queryQ]), axis=0)\n",
    "        pairedData = np.append(pairedData, np.array([Q]), axis=0)\n",
    "    logger.debug(\"Finish ref.shape = {:}; query.shape = {:}\".format(ref, query))\n",
    "    logger.debug(\"pairedData.shape = {:}\".format(pairedData.shape))\n",
    "\n",
    "pairedData = pairedData[1:]\n",
    "print(pairedData.shape)\n",
    "logger.debug(\"Finish loading paired-annotation data\")\n",
    "logger.debug(\"=> There are {:} pairs of shape ({:},{:})\".format(pairedData.shape[0], pairedData.shape[2], pairedData.shape[3]))"
   ]
  },
  {
   "cell_type": "markdown",
   "metadata": {},
   "source": [
    "## Preprocessing\n",
    "Obtain a matrix $X_1$, $X_2$, $[w_{ij}]$, and $[s_{ij}]$ where $X_1$ and $X_2$ are pairs of images of shape \n",
    "`(n_samples, 1, width, height)`; $[w_{ij}]$ is the weight vector of shape `(n_samples, 1)` which describes the weight of each pair; and $[s_{ij}]$ is a binary vector of shape `(n_samples,1)` indicating whether inputs $i$ and $j$ are the same ."
   ]
  },
  {
   "cell_type": "code",
   "execution_count": 6,
   "metadata": {
    "collapsed": true
   },
   "outputs": [],
   "source": [
    "nPairs = pairedData.shape[0] \n",
    "X1 = []\n",
    "X2 = []\n",
    "S = []\n",
    "groundTruth = []"
   ]
  },
  {
   "cell_type": "markdown",
   "metadata": {},
   "source": [
    "__Add similar pairs__\n",
    "\n",
    "We add similar pairs based on the dataset we have."
   ]
  },
  {
   "cell_type": "code",
   "execution_count": 7,
   "metadata": {
    "collapsed": true,
    "scrolled": true
   },
   "outputs": [],
   "source": [
    "for idx in range(nPairs):\n",
    "    X1.append(np.expand_dims(pairedData[idx][0][:][:], axis=0))\n",
    "    X2.append(np.expand_dims(pairedData[idx][1][:][:], axis=0))\n",
    "    groundTruth.append((idx,idx))\n",
    "    S.append(True)"
   ]
  },
  {
   "cell_type": "markdown",
   "metadata": {},
   "source": [
    "__Add non-similar pairs__\n",
    "\n",
    "We add non-similar pairs by randomly selecting two CQT frames from the dataset. Note that we say two CQT pairs are not similar when they come from different indices. Specifically, `pairedData[idx1][0][:][:]` and `pairedData[idx2][1][:][:]` where `idx1 != idx2`."
   ]
  },
  {
   "cell_type": "code",
   "execution_count": 8,
   "metadata": {
    "collapsed": true
   },
   "outputs": [],
   "source": [
    "nNonSimilar = 1000\n",
    "for i in range(nNonSimilar):\n",
    "    idx1 = np.random.randint(0, nPairs)\n",
    "    idx2 = np.random.randint(0, nPairs)\n",
    "    \n",
    "    # Two randomly selected indices have to be different\n",
    "    if idx1 == idx2: continue\n",
    "        \n",
    "    X1.append(np.expand_dims(pairedData[idx1][0][:][:], axis=0))\n",
    "    X2.append(np.expand_dims(pairedData[idx2][1][:][:], axis=0))\n",
    "    S.append(idx1 == idx2)\n",
    "    groundTruth.append((idx1,idx2))"
   ]
  },
  {
   "cell_type": "markdown",
   "metadata": {},
   "source": [
    "__Data Post-processing__\n",
    "\n",
    "Convert $X_1$, $X_2$, $[s_{ij}]$ in to numpy arrays."
   ]
  },
  {
   "cell_type": "code",
   "execution_count": 9,
   "metadata": {
    "collapsed": true
   },
   "outputs": [],
   "source": [
    "X1 = np.array(X1)\n",
    "X2 = np.array(X2)\n",
    "S = np.array(S).reshape(-1,1)"
   ]
  },
  {
   "cell_type": "markdown",
   "metadata": {},
   "source": [
    "Calculate the weight vector $[w_{ij}]$. The term $w_{ij}$ is defined as \n",
    "\n",
    "$$\n",
    "    w_{ij} = \\begin{cases}\n",
    "    \\frac{|S|}{|S_{1}|} &\\text{if $x^{(i)}$ is similar to $x^{(j)}$}\\\\\n",
    "    \\frac{|S|}{|S_{0}|} &\\text{if $x^{(i)}$ is not similar to $x^{(j)}$}\n",
    "    \\end{cases}\n",
    "$$"
   ]
  },
  {
   "cell_type": "code",
   "execution_count": 10,
   "metadata": {
    "collapsed": true
   },
   "outputs": [],
   "source": [
    "n_sim = len(S[S==True])\n",
    "w_sim   = len(X1) / n_sim             # w_ij for similar pairs\n",
    "w_insim = len(X1) / (len(X1) - n_sim)  # w_ij for dissimilar pairs\n",
    "W = S*w_sim + (~S)*w_insim          # w vector for pairs"
   ]
  },
  {
   "cell_type": "code",
   "execution_count": 11,
   "metadata": {
    "collapsed": true
   },
   "outputs": [],
   "source": [
    "S = S.astype('float32')"
   ]
  },
  {
   "cell_type": "markdown",
   "metadata": {},
   "source": [
    "Output some statistics and matrix shape."
   ]
  },
  {
   "cell_type": "code",
   "execution_count": 12,
   "metadata": {},
   "outputs": [
    {
     "name": "stdout",
     "output_type": "stream",
     "text": [
      "2018-03-04 23:26:48,344 - root - DEBUG - X1 shape: (1733, 1, 76, 121)\n",
      "2018-03-04 23:26:48,346 - root - DEBUG - X2 shape: (1733, 1, 76, 121)\n",
      "2018-03-04 23:26:48,347 - root - DEBUG - S shape: (1733, 1)\n",
      "2018-03-04 23:26:48,348 - root - DEBUG - W shape: (1733, 1)\n",
      "2018-03-04 23:26:48,349 - root - DEBUG - There are 736 out of 1733 pairs that are similar\n"
     ]
    }
   ],
   "source": [
    "logger.debug(\"X1 shape: {:}\".format(X1.shape))\n",
    "logger.debug(\"X2 shape: {:}\".format(X2.shape))\n",
    "logger.debug(\"S shape: {:}\".format(S.shape))\n",
    "logger.debug(\"W shape: {:}\".format(W.shape))\n",
    "logger.debug(\"There are {:} out of {:} pairs that are similar\".format(n_sim, len(X1)))"
   ]
  },
  {
   "cell_type": "markdown",
   "metadata": {},
   "source": [
    "## Save Inputs\n",
    "\n",
    "We save inputs to pickle files."
   ]
  },
  {
   "cell_type": "code",
   "execution_count": 13,
   "metadata": {
    "scrolled": false
   },
   "outputs": [
    {
     "name": "stdout",
     "output_type": "stream",
     "text": [
      "2018-03-04 23:26:48,612 - root - DEBUG - Save X1 to 2018-03-04[HashNet]X1.pkl\n",
      "2018-03-04 23:26:48,893 - root - DEBUG - Save X2 to 2018-03-04[HashNet]X2.pkl\n",
      "2018-03-04 23:26:48,921 - root - DEBUG - Save S to 2018-03-04[HashNet]S.pkl\n",
      "2018-03-04 23:26:49,173 - root - DEBUG - Save W to 2018-03-04[HashNet]W.pkl\n"
     ]
    }
   ],
   "source": [
    "INPUT_NAME = str(datetime.date.today()) + EXPERIMENT_NAME + \"X1\"\n",
    "with open(INPUT_NAME + \".pkl\", \"wb\") as f:\n",
    "    pickle.dump(X1, f, pickle.HIGHEST_PROTOCOL)\n",
    "    logger.debug(\"Save X1 to {:}\".format(INPUT_NAME + \".pkl\"))\n",
    "\n",
    "INPUT_NAME = str(datetime.date.today()) + EXPERIMENT_NAME + \"X2\"\n",
    "with open(INPUT_NAME + \".pkl\", \"wb\") as f:\n",
    "    pickle.dump(X2, f, pickle.HIGHEST_PROTOCOL)\n",
    "    logger.debug(\"Save X2 to {:}\".format(INPUT_NAME + \".pkl\"))\n",
    "\n",
    "INPUT_NAME = str(datetime.date.today()) + EXPERIMENT_NAME + \"S\"\n",
    "with open(INPUT_NAME + \".pkl\", \"wb\") as f:\n",
    "    pickle.dump(S, f, pickle.HIGHEST_PROTOCOL)\n",
    "    logger.debug(\"Save S to {:}\".format(INPUT_NAME + \".pkl\"))\n",
    "\n",
    "INPUT_NAME = str(datetime.date.today()) + EXPERIMENT_NAME + \"W\"\n",
    "with open(INPUT_NAME + \".pkl\", \"wb\") as f:\n",
    "    pickle.dump(X1, f, pickle.HIGHEST_PROTOCOL)\n",
    "    logger.debug(\"Save W to {:}\".format(INPUT_NAME + \".pkl\"))"
   ]
  },
  {
   "cell_type": "markdown",
   "metadata": {},
   "source": [
    "## Model\n",
    "\n",
    "__Define inputs__\n",
    "\n",
    "Create a HashNet model with four inputs: two images tensors, similarity vector, and weight vector."
   ]
  },
  {
   "cell_type": "code",
   "execution_count": 14,
   "metadata": {
    "collapsed": true
   },
   "outputs": [],
   "source": [
    "width = 76\n",
    "height = 121\n",
    "n_channel = 1"
   ]
  },
  {
   "cell_type": "code",
   "execution_count": 15,
   "metadata": {
    "collapsed": true,
    "scrolled": false
   },
   "outputs": [],
   "source": [
    "image_a    = Input(shape=(n_channel, width, height), name='image_1')\n",
    "image_b    = Input(shape=(n_channel, width, height), name='image_2')\n",
    "similarity = Input(shape=(1,), name=\"similarity\")\n",
    "weight     = Input(shape=(1,), name=\"weight\")"
   ]
  },
  {
   "cell_type": "markdown",
   "metadata": {},
   "source": [
    "__Pre-trained model__\n",
    "\n",
    "Use a pre-trained model here to obtain intermediate values from the pre-trained model. We call this pre-trained model by `base_model`. The `base_model` is generally used to convert a CQT image to some representation."
   ]
  },
  {
   "cell_type": "code",
   "execution_count": 16,
   "metadata": {},
   "outputs": [
    {
     "name": "stdout",
     "output_type": "stream",
     "text": [
      "2018-03-04 23:26:49,993 - root - DEBUG - Load model from /data1/mint/public/taylorswift_out/model.mat\n"
     ]
    }
   ],
   "source": [
    "model_path = '/data1/mint/public/taylorswift_out/model.mat'\n",
    "model = scipy.io.loadmat(model_path)\n",
    "logger.debug(\"Load model from {:}\".format(model_path))\n",
    "evecs = np.array(model['eigvecs']).T"
   ]
  },
  {
   "cell_type": "code",
   "execution_count": 17,
   "metadata": {},
   "outputs": [
    {
     "name": "stdout",
     "output_type": "stream",
     "text": [
      "2018-03-04 23:26:52,902 - root - DEBUG - Construct base model\n"
     ]
    }
   ],
   "source": [
    "m = 20\n",
    "pca_matrix = np.array([vec.reshape((m, -1)) for vec in evecs])\n",
    "delta = 4\n",
    "base_model = build_model(pca_matrix, refQ.shape, delta=delta, COMPUTE_DELTA=True)\n",
    "logger.debug(\"Construct base model\")"
   ]
  },
  {
   "cell_type": "code",
   "execution_count": 18,
   "metadata": {},
   "outputs": [
    {
     "name": "stdout",
     "output_type": "stream",
     "text": [
      "2018-03-04 23:26:53,090 - root - DEBUG - Save base_model architecture to base_model.png\n"
     ]
    },
    {
     "data": {
      "image/svg+xml": [
       "<svg height=\"221pt\" viewBox=\"0.00 0.00 353.00 221.00\" width=\"353pt\" xmlns=\"http://www.w3.org/2000/svg\" xmlns:xlink=\"http://www.w3.org/1999/xlink\">\n",
       "<g class=\"graph\" id=\"graph0\" transform=\"scale(1 1) rotate(0) translate(4 217)\">\n",
       "<title>G</title>\n",
       "<polygon fill=\"#ffffff\" points=\"-4,4 -4,-217 349,-217 349,4 -4,4\" stroke=\"transparent\"/>\n",
       "<!-- 140441110796328 -->\n",
       "<g class=\"node\" id=\"node1\">\n",
       "<title>140441110796328</title>\n",
       "<polygon fill=\"none\" points=\"0,-166.5 0,-212.5 345,-212.5 345,-166.5 0,-166.5\" stroke=\"#000000\"/>\n",
       "<text fill=\"#000000\" font-family=\"Times,serif\" font-size=\"14.00\" text-anchor=\"middle\" x=\"86\" y=\"-185.8\">conv2d_1_input: InputLayer</text>\n",
       "<polyline fill=\"none\" points=\"172,-166.5 172,-212.5 \" stroke=\"#000000\"/>\n",
       "<text fill=\"#000000\" font-family=\"Times,serif\" font-size=\"14.00\" text-anchor=\"middle\" x=\"199.5\" y=\"-197.3\">input:</text>\n",
       "<polyline fill=\"none\" points=\"172,-189.5 227,-189.5 \" stroke=\"#000000\"/>\n",
       "<text fill=\"#000000\" font-family=\"Times,serif\" font-size=\"14.00\" text-anchor=\"middle\" x=\"199.5\" y=\"-174.3\">output:</text>\n",
       "<polyline fill=\"none\" points=\"227,-166.5 227,-212.5 \" stroke=\"#000000\"/>\n",
       "<text fill=\"#000000\" font-family=\"Times,serif\" font-size=\"14.00\" text-anchor=\"middle\" x=\"286\" y=\"-197.3\">(None, 1, 76, 121)</text>\n",
       "<polyline fill=\"none\" points=\"227,-189.5 345,-189.5 \" stroke=\"#000000\"/>\n",
       "<text fill=\"#000000\" font-family=\"Times,serif\" font-size=\"14.00\" text-anchor=\"middle\" x=\"286\" y=\"-174.3\">(None, 1, 76, 121)</text>\n",
       "</g>\n",
       "<!-- 140441110797336 -->\n",
       "<g class=\"node\" id=\"node2\">\n",
       "<title>140441110797336</title>\n",
       "<polygon fill=\"none\" points=\"24.5,-83.5 24.5,-129.5 320.5,-129.5 320.5,-83.5 24.5,-83.5\" stroke=\"#000000\"/>\n",
       "<text fill=\"#000000\" font-family=\"Times,serif\" font-size=\"14.00\" text-anchor=\"middle\" x=\"86\" y=\"-102.8\">conv2d_1: Conv2D</text>\n",
       "<polyline fill=\"none\" points=\"147.5,-83.5 147.5,-129.5 \" stroke=\"#000000\"/>\n",
       "<text fill=\"#000000\" font-family=\"Times,serif\" font-size=\"14.00\" text-anchor=\"middle\" x=\"175\" y=\"-114.3\">input:</text>\n",
       "<polyline fill=\"none\" points=\"147.5,-106.5 202.5,-106.5 \" stroke=\"#000000\"/>\n",
       "<text fill=\"#000000\" font-family=\"Times,serif\" font-size=\"14.00\" text-anchor=\"middle\" x=\"175\" y=\"-91.3\">output:</text>\n",
       "<polyline fill=\"none\" points=\"202.5,-83.5 202.5,-129.5 \" stroke=\"#000000\"/>\n",
       "<text fill=\"#000000\" font-family=\"Times,serif\" font-size=\"14.00\" text-anchor=\"middle\" x=\"261.5\" y=\"-114.3\">(None, 1, 76, 121)</text>\n",
       "<polyline fill=\"none\" points=\"202.5,-106.5 320.5,-106.5 \" stroke=\"#000000\"/>\n",
       "<text fill=\"#000000\" font-family=\"Times,serif\" font-size=\"14.00\" text-anchor=\"middle\" x=\"261.5\" y=\"-91.3\">(None, 64, 12, 1)</text>\n",
       "</g>\n",
       "<!-- 140441110796328&#45;&gt;140441110797336 -->\n",
       "<g class=\"edge\" id=\"edge1\">\n",
       "<title>140441110796328-&gt;140441110797336</title>\n",
       "<path d=\"M172.5,-166.3799C172.5,-158.1745 172.5,-148.7679 172.5,-139.8786\" fill=\"none\" stroke=\"#000000\"/>\n",
       "<polygon fill=\"#000000\" points=\"176.0001,-139.784 172.5,-129.784 169.0001,-139.784 176.0001,-139.784\" stroke=\"#000000\"/>\n",
       "</g>\n",
       "<!-- 140441110795040 -->\n",
       "<g class=\"node\" id=\"node3\">\n",
       "<title>140441110795040</title>\n",
       "<polygon fill=\"none\" points=\"28,-.5 28,-46.5 317,-46.5 317,-.5 28,-.5\" stroke=\"#000000\"/>\n",
       "<text fill=\"#000000\" font-family=\"Times,serif\" font-size=\"14.00\" text-anchor=\"middle\" x=\"89.5\" y=\"-19.8\">conv2d_2: Conv2D</text>\n",
       "<polyline fill=\"none\" points=\"151,-.5 151,-46.5 \" stroke=\"#000000\"/>\n",
       "<text fill=\"#000000\" font-family=\"Times,serif\" font-size=\"14.00\" text-anchor=\"middle\" x=\"178.5\" y=\"-31.3\">input:</text>\n",
       "<polyline fill=\"none\" points=\"151,-23.5 206,-23.5 \" stroke=\"#000000\"/>\n",
       "<text fill=\"#000000\" font-family=\"Times,serif\" font-size=\"14.00\" text-anchor=\"middle\" x=\"178.5\" y=\"-8.3\">output:</text>\n",
       "<polyline fill=\"none\" points=\"206,-.5 206,-46.5 \" stroke=\"#000000\"/>\n",
       "<text fill=\"#000000\" font-family=\"Times,serif\" font-size=\"14.00\" text-anchor=\"middle\" x=\"261.5\" y=\"-31.3\">(None, 64, 12, 1)</text>\n",
       "<polyline fill=\"none\" points=\"206,-23.5 317,-23.5 \" stroke=\"#000000\"/>\n",
       "<text fill=\"#000000\" font-family=\"Times,serif\" font-size=\"14.00\" text-anchor=\"middle\" x=\"261.5\" y=\"-8.3\">(None, 64, 8, 1)</text>\n",
       "</g>\n",
       "<!-- 140441110797336&#45;&gt;140441110795040 -->\n",
       "<g class=\"edge\" id=\"edge2\">\n",
       "<title>140441110797336-&gt;140441110795040</title>\n",
       "<path d=\"M172.5,-83.3799C172.5,-75.1745 172.5,-65.7679 172.5,-56.8786\" fill=\"none\" stroke=\"#000000\"/>\n",
       "<polygon fill=\"#000000\" points=\"176.0001,-56.784 172.5,-46.784 169.0001,-56.784 176.0001,-56.784\" stroke=\"#000000\"/>\n",
       "</g>\n",
       "</g>\n",
       "</svg>"
      ],
      "text/plain": [
       "<IPython.core.display.SVG object>"
      ]
     },
     "execution_count": 18,
     "metadata": {},
     "output_type": "execute_result"
    }
   ],
   "source": [
    "plot_model(base_model, show_shapes=True, to_file='base_model.png')\n",
    "logger.debug(\"Save base_model architecture to base_model.png\")\n",
    "SVG(model_to_dot(base_model, show_shapes=True).create(prog='dot', format='svg'))"
   ]
  },
  {
   "cell_type": "markdown",
   "metadata": {},
   "source": [
    "__Obtain intermediate values__\n",
    "\n",
    "Intermediate values are values directly after the base model."
   ]
  },
  {
   "cell_type": "code",
   "execution_count": 19,
   "metadata": {
    "collapsed": true
   },
   "outputs": [],
   "source": [
    "# Obtain intermediate tensor\n",
    "intermediate_a = base_model(image_a)\n",
    "intermediate_b = base_model(image_b)\n",
    "\n",
    "# Flatten the layer\n",
    "flatten_a = Flatten()(intermediate_a)\n",
    "flatten_b = Flatten()(intermediate_b)"
   ]
  },
  {
   "cell_type": "markdown",
   "metadata": {},
   "source": [
    "__Append a layer for binary encoding__\n",
    "\n",
    "This layer has a `tanh` activation defined in the same way as HashNet paper. Note that initial beta value, number of bits, and `alpha` in the block below are hyperparameters."
   ]
  },
  {
   "cell_type": "code",
   "execution_count": 20,
   "metadata": {},
   "outputs": [
    {
     "name": "stdout",
     "output_type": "stream",
     "text": [
      "2018-03-04 23:26:53,300 - root - DEBUG - [HashNet Model] beta = 1, numberOfBits = 256, alpha = 0.5\n"
     ]
    }
   ],
   "source": [
    "beta         = 1            # Initial beta value\n",
    "numberOfBits = 256\n",
    "alpha        = 0.5\n",
    "logger.debug(\"[HashNet Model] beta = {:}, numberOfBits = {:}, alpha = {:}\".format(beta, numberOfBits, alpha))"
   ]
  },
  {
   "cell_type": "code",
   "execution_count": 21,
   "metadata": {
    "collapsed": true
   },
   "outputs": [],
   "source": [
    "def custom_activation(x):\n",
    "    \"\"\"\n",
    "    Our own defined activation function\n",
    "    \"\"\"\n",
    "    global beta\n",
    "    return K.tanh(beta * x)"
   ]
  },
  {
   "cell_type": "code",
   "execution_count": 22,
   "metadata": {
    "collapsed": true
   },
   "outputs": [],
   "source": [
    "class CustomizedLossLayer(Layer):\n",
    "    \"\"\"\n",
    "    Our own defined layer for keeping track of loss function\n",
    "    \"\"\"\n",
    "    \n",
    "    def __init__(self, **kwargs):\n",
    "        self.is_placeholder = True\n",
    "        super(CustomizedLossLayer, self).__init__(**kwargs)\n",
    "    \n",
    "    def my_loss(self, encoded_a, encoded_b, similarity, weight):\n",
    "        global alpha\n",
    "        x = encoded_a\n",
    "        y = encoded_b\n",
    "        dot_product = K.sum(x * y, axis=-1, keepdims=True)\n",
    "        return K.sum(weight * (K.log(1 + K.exp(alpha * dot_product)) - alpha * similarity * dot_product))\n",
    "    \n",
    "    def call(self, inputs):\n",
    "        encoded_a = inputs[0]\n",
    "        encoded_b = inputs[1]\n",
    "        similarity = inputs[2]\n",
    "        weight = inputs[3]\n",
    "        loss = self.my_loss(encoded_a, encoded_b, similarity, weight)\n",
    "        self.add_loss(loss, inputs=inputs)\n",
    "        return K.ones_like(similarity)\n"
   ]
  },
  {
   "cell_type": "code",
   "execution_count": 23,
   "metadata": {
    "collapsed": true
   },
   "outputs": [],
   "source": [
    "dense_layer = Dense(numberOfBits, activation=custom_activation)\n",
    "encoded_a = dense_layer(flatten_a)\n",
    "encoded_b = dense_layer(flatten_b)"
   ]
  },
  {
   "cell_type": "markdown",
   "metadata": {},
   "source": [
    "__Create a model for training__\n",
    "\n",
    "We construct a model using 2 representations derived by the same base model and similarity and weight. The architecture of the model is given below."
   ]
  },
  {
   "cell_type": "code",
   "execution_count": 24,
   "metadata": {
    "collapsed": true
   },
   "outputs": [],
   "source": [
    "# Define a loss layer with 4 inputs\n",
    "loss = CustomizedLossLayer()([encoded_a, encoded_b, similarity, weight])"
   ]
  },
  {
   "cell_type": "code",
   "execution_count": 25,
   "metadata": {
    "collapsed": true
   },
   "outputs": [],
   "source": [
    "# Define a model that has 4 inputs and outputs loss\n",
    "model = Model(inputs=[image_a, image_b, similarity, weight], outputs=[loss])"
   ]
  },
  {
   "cell_type": "code",
   "execution_count": 26,
   "metadata": {},
   "outputs": [
    {
     "name": "stdout",
     "output_type": "stream",
     "text": [
      "2018-03-04 23:26:53,406 - root - DEBUG - Use Adam optimizer with lr = 1e-5\n"
     ]
    }
   ],
   "source": [
    "# Compile the model with our own defined loss function.\n",
    "# Note that loss function is already defined in a layer, so\n",
    "# `zero_loss` here doesn't actually do anything.\n",
    "\n",
    "def zero_loss(y_true, y_pred):\n",
    "    return K.zeros_like(y_pred)\n",
    "\n",
    "logger.debug(\"Use Adam optimizer with lr = 1e-5\")\n",
    "adam = Adam(lr=1e-5)\n",
    "model.compile(optimizer=adam, loss=zero_loss)"
   ]
  },
  {
   "cell_type": "markdown",
   "metadata": {},
   "source": [
    "__Visualize model architecture__"
   ]
  },
  {
   "cell_type": "code",
   "execution_count": 27,
   "metadata": {
    "scrolled": false
   },
   "outputs": [
    {
     "name": "stdout",
     "output_type": "stream",
     "text": [
      "2018-03-04 23:26:53,809 - root - DEBUG - Save model architecture to model.png\n"
     ]
    },
    {
     "data": {
      "image/svg+xml": [
       "<svg height=\"387pt\" viewBox=\"0.00 0.00 983.50 387.00\" width=\"984pt\" xmlns=\"http://www.w3.org/2000/svg\" xmlns:xlink=\"http://www.w3.org/1999/xlink\">\n",
       "<g class=\"graph\" id=\"graph0\" transform=\"scale(1 1) rotate(0) translate(4 383)\">\n",
       "<title>G</title>\n",
       "<polygon fill=\"#ffffff\" points=\"-4,4 -4,-383 979.5,-383 979.5,4 -4,4\" stroke=\"transparent\"/>\n",
       "<!-- 140441104983656 -->\n",
       "<g class=\"node\" id=\"node1\">\n",
       "<title>140441104983656</title>\n",
       "<polygon fill=\"none\" points=\"0,-332.5 0,-378.5 304,-378.5 304,-332.5 0,-332.5\" stroke=\"#000000\"/>\n",
       "<text fill=\"#000000\" font-family=\"Times,serif\" font-size=\"14.00\" text-anchor=\"middle\" x=\"65.5\" y=\"-351.8\">image_1: InputLayer</text>\n",
       "<polyline fill=\"none\" points=\"131,-332.5 131,-378.5 \" stroke=\"#000000\"/>\n",
       "<text fill=\"#000000\" font-family=\"Times,serif\" font-size=\"14.00\" text-anchor=\"middle\" x=\"158.5\" y=\"-363.3\">input:</text>\n",
       "<polyline fill=\"none\" points=\"131,-355.5 186,-355.5 \" stroke=\"#000000\"/>\n",
       "<text fill=\"#000000\" font-family=\"Times,serif\" font-size=\"14.00\" text-anchor=\"middle\" x=\"158.5\" y=\"-340.3\">output:</text>\n",
       "<polyline fill=\"none\" points=\"186,-332.5 186,-378.5 \" stroke=\"#000000\"/>\n",
       "<text fill=\"#000000\" font-family=\"Times,serif\" font-size=\"14.00\" text-anchor=\"middle\" x=\"245\" y=\"-363.3\">(None, 1, 76, 121)</text>\n",
       "<polyline fill=\"none\" points=\"186,-355.5 304,-355.5 \" stroke=\"#000000\"/>\n",
       "<text fill=\"#000000\" font-family=\"Times,serif\" font-size=\"14.00\" text-anchor=\"middle\" x=\"245\" y=\"-340.3\">(None, 1, 76, 121)</text>\n",
       "</g>\n",
       "<!-- 140441110795096 -->\n",
       "<g class=\"node\" id=\"node3\">\n",
       "<title>140441110795096</title>\n",
       "<polygon fill=\"none\" points=\"152,-249.5 152,-295.5 474,-295.5 474,-249.5 152,-249.5\" stroke=\"#000000\"/>\n",
       "<text fill=\"#000000\" font-family=\"Times,serif\" font-size=\"14.00\" text-anchor=\"middle\" x=\"226.5\" y=\"-268.8\">sequential_1: Sequential</text>\n",
       "<polyline fill=\"none\" points=\"301,-249.5 301,-295.5 \" stroke=\"#000000\"/>\n",
       "<text fill=\"#000000\" font-family=\"Times,serif\" font-size=\"14.00\" text-anchor=\"middle\" x=\"328.5\" y=\"-280.3\">input:</text>\n",
       "<polyline fill=\"none\" points=\"301,-272.5 356,-272.5 \" stroke=\"#000000\"/>\n",
       "<text fill=\"#000000\" font-family=\"Times,serif\" font-size=\"14.00\" text-anchor=\"middle\" x=\"328.5\" y=\"-257.3\">output:</text>\n",
       "<polyline fill=\"none\" points=\"356,-249.5 356,-295.5 \" stroke=\"#000000\"/>\n",
       "<text fill=\"#000000\" font-family=\"Times,serif\" font-size=\"14.00\" text-anchor=\"middle\" x=\"415\" y=\"-280.3\">(None, 1, 76, 121)</text>\n",
       "<polyline fill=\"none\" points=\"356,-272.5 474,-272.5 \" stroke=\"#000000\"/>\n",
       "<text fill=\"#000000\" font-family=\"Times,serif\" font-size=\"14.00\" text-anchor=\"middle\" x=\"415\" y=\"-257.3\">(None, 64, 8, 1)</text>\n",
       "</g>\n",
       "<!-- 140441104983656&#45;&gt;140441110795096 -->\n",
       "<g class=\"edge\" id=\"edge1\">\n",
       "<title>140441104983656-&gt;140441110795096</title>\n",
       "<path d=\"M196.8475,-332.3799C216.1316,-322.4384 238.8364,-310.7334 259.0326,-300.3217\" fill=\"none\" stroke=\"#000000\"/>\n",
       "<polygon fill=\"#000000\" points=\"260.8295,-303.3331 268.1141,-295.6399 257.6219,-297.1113 260.8295,-303.3331\" stroke=\"#000000\"/>\n",
       "</g>\n",
       "<!-- 140441104983936 -->\n",
       "<g class=\"node\" id=\"node2\">\n",
       "<title>140441104983936</title>\n",
       "<polygon fill=\"none\" points=\"322,-332.5 322,-378.5 626,-378.5 626,-332.5 322,-332.5\" stroke=\"#000000\"/>\n",
       "<text fill=\"#000000\" font-family=\"Times,serif\" font-size=\"14.00\" text-anchor=\"middle\" x=\"387.5\" y=\"-351.8\">image_2: InputLayer</text>\n",
       "<polyline fill=\"none\" points=\"453,-332.5 453,-378.5 \" stroke=\"#000000\"/>\n",
       "<text fill=\"#000000\" font-family=\"Times,serif\" font-size=\"14.00\" text-anchor=\"middle\" x=\"480.5\" y=\"-363.3\">input:</text>\n",
       "<polyline fill=\"none\" points=\"453,-355.5 508,-355.5 \" stroke=\"#000000\"/>\n",
       "<text fill=\"#000000\" font-family=\"Times,serif\" font-size=\"14.00\" text-anchor=\"middle\" x=\"480.5\" y=\"-340.3\">output:</text>\n",
       "<polyline fill=\"none\" points=\"508,-332.5 508,-378.5 \" stroke=\"#000000\"/>\n",
       "<text fill=\"#000000\" font-family=\"Times,serif\" font-size=\"14.00\" text-anchor=\"middle\" x=\"567\" y=\"-363.3\">(None, 1, 76, 121)</text>\n",
       "<polyline fill=\"none\" points=\"508,-355.5 626,-355.5 \" stroke=\"#000000\"/>\n",
       "<text fill=\"#000000\" font-family=\"Times,serif\" font-size=\"14.00\" text-anchor=\"middle\" x=\"567\" y=\"-340.3\">(None, 1, 76, 121)</text>\n",
       "</g>\n",
       "<!-- 140441104983936&#45;&gt;140441110795096 -->\n",
       "<g class=\"edge\" id=\"edge2\">\n",
       "<title>140441104983936-&gt;140441110795096</title>\n",
       "<path d=\"M429.1525,-332.3799C409.8684,-322.4384 387.1636,-310.7334 366.9674,-300.3217\" fill=\"none\" stroke=\"#000000\"/>\n",
       "<polygon fill=\"#000000\" points=\"368.3781,-297.1113 357.8859,-295.6399 365.1705,-303.3331 368.3781,-297.1113\" stroke=\"#000000\"/>\n",
       "</g>\n",
       "<!-- 140441104878056 -->\n",
       "<g class=\"node\" id=\"node4\">\n",
       "<title>140441104878056</title>\n",
       "<polygon fill=\"none\" points=\"35.5,-166.5 35.5,-212.5 304.5,-212.5 304.5,-166.5 35.5,-166.5\" stroke=\"#000000\"/>\n",
       "<text fill=\"#000000\" font-family=\"Times,serif\" font-size=\"14.00\" text-anchor=\"middle\" x=\"90.5\" y=\"-185.8\">flatten_1: Flatten</text>\n",
       "<polyline fill=\"none\" points=\"145.5,-166.5 145.5,-212.5 \" stroke=\"#000000\"/>\n",
       "<text fill=\"#000000\" font-family=\"Times,serif\" font-size=\"14.00\" text-anchor=\"middle\" x=\"173\" y=\"-197.3\">input:</text>\n",
       "<polyline fill=\"none\" points=\"145.5,-189.5 200.5,-189.5 \" stroke=\"#000000\"/>\n",
       "<text fill=\"#000000\" font-family=\"Times,serif\" font-size=\"14.00\" text-anchor=\"middle\" x=\"173\" y=\"-174.3\">output:</text>\n",
       "<polyline fill=\"none\" points=\"200.5,-166.5 200.5,-212.5 \" stroke=\"#000000\"/>\n",
       "<text fill=\"#000000\" font-family=\"Times,serif\" font-size=\"14.00\" text-anchor=\"middle\" x=\"252.5\" y=\"-197.3\">(None, 64, 8, 1)</text>\n",
       "<polyline fill=\"none\" points=\"200.5,-189.5 304.5,-189.5 \" stroke=\"#000000\"/>\n",
       "<text fill=\"#000000\" font-family=\"Times,serif\" font-size=\"14.00\" text-anchor=\"middle\" x=\"252.5\" y=\"-174.3\">(None, 512)</text>\n",
       "</g>\n",
       "<!-- 140441110795096&#45;&gt;140441104878056 -->\n",
       "<g class=\"edge\" id=\"edge3\">\n",
       "<title>140441110795096-&gt;140441104878056</title>\n",
       "<path d=\"M273.1665,-249.3799C256.4174,-239.6583 236.7629,-228.2505 219.1277,-218.0147\" fill=\"none\" stroke=\"#000000\"/>\n",
       "<polygon fill=\"#000000\" points=\"220.5215,-214.7769 210.1158,-212.784 217.0076,-220.831 220.5215,-214.7769\" stroke=\"#000000\"/>\n",
       "</g>\n",
       "<!-- 140441104876544 -->\n",
       "<g class=\"node\" id=\"node5\">\n",
       "<title>140441104876544</title>\n",
       "<polygon fill=\"none\" points=\"322.5,-166.5 322.5,-212.5 591.5,-212.5 591.5,-166.5 322.5,-166.5\" stroke=\"#000000\"/>\n",
       "<text fill=\"#000000\" font-family=\"Times,serif\" font-size=\"14.00\" text-anchor=\"middle\" x=\"377.5\" y=\"-185.8\">flatten_2: Flatten</text>\n",
       "<polyline fill=\"none\" points=\"432.5,-166.5 432.5,-212.5 \" stroke=\"#000000\"/>\n",
       "<text fill=\"#000000\" font-family=\"Times,serif\" font-size=\"14.00\" text-anchor=\"middle\" x=\"460\" y=\"-197.3\">input:</text>\n",
       "<polyline fill=\"none\" points=\"432.5,-189.5 487.5,-189.5 \" stroke=\"#000000\"/>\n",
       "<text fill=\"#000000\" font-family=\"Times,serif\" font-size=\"14.00\" text-anchor=\"middle\" x=\"460\" y=\"-174.3\">output:</text>\n",
       "<polyline fill=\"none\" points=\"487.5,-166.5 487.5,-212.5 \" stroke=\"#000000\"/>\n",
       "<text fill=\"#000000\" font-family=\"Times,serif\" font-size=\"14.00\" text-anchor=\"middle\" x=\"539.5\" y=\"-197.3\">(None, 64, 8, 1)</text>\n",
       "<polyline fill=\"none\" points=\"487.5,-189.5 591.5,-189.5 \" stroke=\"#000000\"/>\n",
       "<text fill=\"#000000\" font-family=\"Times,serif\" font-size=\"14.00\" text-anchor=\"middle\" x=\"539.5\" y=\"-174.3\">(None, 512)</text>\n",
       "</g>\n",
       "<!-- 140441110795096&#45;&gt;140441104876544 -->\n",
       "<g class=\"edge\" id=\"edge4\">\n",
       "<title>140441110795096-&gt;140441104876544</title>\n",
       "<path d=\"M353.112,-249.3799C370.0492,-239.6175 389.9366,-228.1546 407.7524,-217.8857\" fill=\"none\" stroke=\"#000000\"/>\n",
       "<polygon fill=\"#000000\" points=\"409.9375,-220.6661 416.8536,-212.6399 406.4419,-214.6014 409.9375,-220.6661\" stroke=\"#000000\"/>\n",
       "</g>\n",
       "<!-- 140440597382480 -->\n",
       "<g class=\"node\" id=\"node6\">\n",
       "<title>140440597382480</title>\n",
       "<polygon fill=\"none\" points=\"193,-83.5 193,-129.5 433,-129.5 433,-83.5 193,-83.5\" stroke=\"#000000\"/>\n",
       "<text fill=\"#000000\" font-family=\"Times,serif\" font-size=\"14.00\" text-anchor=\"middle\" x=\"244\" y=\"-102.8\">dense_1: Dense</text>\n",
       "<polyline fill=\"none\" points=\"295,-83.5 295,-129.5 \" stroke=\"#000000\"/>\n",
       "<text fill=\"#000000\" font-family=\"Times,serif\" font-size=\"14.00\" text-anchor=\"middle\" x=\"322.5\" y=\"-114.3\">input:</text>\n",
       "<polyline fill=\"none\" points=\"295,-106.5 350,-106.5 \" stroke=\"#000000\"/>\n",
       "<text fill=\"#000000\" font-family=\"Times,serif\" font-size=\"14.00\" text-anchor=\"middle\" x=\"322.5\" y=\"-91.3\">output:</text>\n",
       "<polyline fill=\"none\" points=\"350,-83.5 350,-129.5 \" stroke=\"#000000\"/>\n",
       "<text fill=\"#000000\" font-family=\"Times,serif\" font-size=\"14.00\" text-anchor=\"middle\" x=\"391.5\" y=\"-114.3\">(None, 512)</text>\n",
       "<polyline fill=\"none\" points=\"350,-106.5 433,-106.5 \" stroke=\"#000000\"/>\n",
       "<text fill=\"#000000\" font-family=\"Times,serif\" font-size=\"14.00\" text-anchor=\"middle\" x=\"391.5\" y=\"-91.3\">(None, 256)</text>\n",
       "</g>\n",
       "<!-- 140441104878056&#45;&gt;140440597382480 -->\n",
       "<g class=\"edge\" id=\"edge5\">\n",
       "<title>140441104878056-&gt;140440597382480</title>\n",
       "<path d=\"M209.8335,-166.3799C226.5826,-156.6583 246.2371,-145.2505 263.8723,-135.0147\" fill=\"none\" stroke=\"#000000\"/>\n",
       "<polygon fill=\"#000000\" points=\"265.9924,-137.831 272.8842,-129.784 262.4785,-131.7769 265.9924,-137.831\" stroke=\"#000000\"/>\n",
       "</g>\n",
       "<!-- 140441104876544&#45;&gt;140440597382480 -->\n",
       "<g class=\"edge\" id=\"edge6\">\n",
       "<title>140441104876544-&gt;140440597382480</title>\n",
       "<path d=\"M416.888,-166.3799C399.9508,-156.6175 380.0634,-145.1546 362.2476,-134.8857\" fill=\"none\" stroke=\"#000000\"/>\n",
       "<polygon fill=\"#000000\" points=\"363.5581,-131.6014 353.1464,-129.6399 360.0625,-137.6661 363.5581,-131.6014\" stroke=\"#000000\"/>\n",
       "</g>\n",
       "<!-- 140440597478424 -->\n",
       "<g class=\"node\" id=\"node9\">\n",
       "<title>140440597478424</title>\n",
       "<polygon fill=\"none\" points=\"270,-.5 270,-46.5 894,-46.5 894,-.5 270,-.5\" stroke=\"#000000\"/>\n",
       "<text fill=\"#000000\" font-family=\"Times,serif\" font-size=\"14.00\" text-anchor=\"middle\" x=\"412\" y=\"-19.8\">customized_loss_layer_1: CustomizedLossLayer</text>\n",
       "<polyline fill=\"none\" points=\"554,-.5 554,-46.5 \" stroke=\"#000000\"/>\n",
       "<text fill=\"#000000\" font-family=\"Times,serif\" font-size=\"14.00\" text-anchor=\"middle\" x=\"581.5\" y=\"-31.3\">input:</text>\n",
       "<polyline fill=\"none\" points=\"554,-23.5 609,-23.5 \" stroke=\"#000000\"/>\n",
       "<text fill=\"#000000\" font-family=\"Times,serif\" font-size=\"14.00\" text-anchor=\"middle\" x=\"581.5\" y=\"-8.3\">output:</text>\n",
       "<polyline fill=\"none\" points=\"609,-.5 609,-46.5 \" stroke=\"#000000\"/>\n",
       "<text fill=\"#000000\" font-family=\"Times,serif\" font-size=\"14.00\" text-anchor=\"middle\" x=\"751.5\" y=\"-31.3\">[(None, 256), (None, 256), (None, 1), (None, 1)]</text>\n",
       "<polyline fill=\"none\" points=\"609,-23.5 894,-23.5 \" stroke=\"#000000\"/>\n",
       "<text fill=\"#000000\" font-family=\"Times,serif\" font-size=\"14.00\" text-anchor=\"middle\" x=\"751.5\" y=\"-8.3\">[(None, 256), (None, 256), (None, 1), (None, 1)]</text>\n",
       "</g>\n",
       "<!-- 140440597382480&#45;&gt;140440597478424 -->\n",
       "<g class=\"edge\" id=\"edge7\">\n",
       "<title>140440597382480-&gt;140440597478424</title>\n",
       "<path d=\"M387.5743,-83.4901C421.6841,-72.9655 462.2575,-60.4466 497.4936,-49.5745\" fill=\"none\" stroke=\"#000000\"/>\n",
       "<polygon fill=\"#000000\" points=\"498.7571,-52.8475 507.2807,-46.5547 496.6932,-46.1587 498.7571,-52.8475\" stroke=\"#000000\"/>\n",
       "</g>\n",
       "<!-- 140441104879456 -->\n",
       "<g class=\"node\" id=\"node7\">\n",
       "<title>140441104879456</title>\n",
       "<polygon fill=\"none\" points=\"451.5,-83.5 451.5,-129.5 712.5,-129.5 712.5,-83.5 451.5,-83.5\" stroke=\"#000000\"/>\n",
       "<text fill=\"#000000\" font-family=\"Times,serif\" font-size=\"14.00\" text-anchor=\"middle\" x=\"520\" y=\"-102.8\">similarity: InputLayer</text>\n",
       "<polyline fill=\"none\" points=\"588.5,-83.5 588.5,-129.5 \" stroke=\"#000000\"/>\n",
       "<text fill=\"#000000\" font-family=\"Times,serif\" font-size=\"14.00\" text-anchor=\"middle\" x=\"616\" y=\"-114.3\">input:</text>\n",
       "<polyline fill=\"none\" points=\"588.5,-106.5 643.5,-106.5 \" stroke=\"#000000\"/>\n",
       "<text fill=\"#000000\" font-family=\"Times,serif\" font-size=\"14.00\" text-anchor=\"middle\" x=\"616\" y=\"-91.3\">output:</text>\n",
       "<polyline fill=\"none\" points=\"643.5,-83.5 643.5,-129.5 \" stroke=\"#000000\"/>\n",
       "<text fill=\"#000000\" font-family=\"Times,serif\" font-size=\"14.00\" text-anchor=\"middle\" x=\"678\" y=\"-114.3\">(None, 1)</text>\n",
       "<polyline fill=\"none\" points=\"643.5,-106.5 712.5,-106.5 \" stroke=\"#000000\"/>\n",
       "<text fill=\"#000000\" font-family=\"Times,serif\" font-size=\"14.00\" text-anchor=\"middle\" x=\"678\" y=\"-91.3\">(None, 1)</text>\n",
       "</g>\n",
       "<!-- 140441104879456&#45;&gt;140440597478424 -->\n",
       "<g class=\"edge\" id=\"edge9\">\n",
       "<title>140441104879456-&gt;140440597478424</title>\n",
       "<path d=\"M582,-83.3799C582,-75.1745 582,-65.7679 582,-56.8786\" fill=\"none\" stroke=\"#000000\"/>\n",
       "<polygon fill=\"#000000\" points=\"585.5001,-56.784 582,-46.784 578.5001,-56.784 585.5001,-56.784\" stroke=\"#000000\"/>\n",
       "</g>\n",
       "<!-- 140441110897776 -->\n",
       "<g class=\"node\" id=\"node8\">\n",
       "<title>140441110897776</title>\n",
       "<polygon fill=\"none\" points=\"730.5,-83.5 730.5,-129.5 975.5,-129.5 975.5,-83.5 730.5,-83.5\" stroke=\"#000000\"/>\n",
       "<text fill=\"#000000\" font-family=\"Times,serif\" font-size=\"14.00\" text-anchor=\"middle\" x=\"791\" y=\"-102.8\">weight: InputLayer</text>\n",
       "<polyline fill=\"none\" points=\"851.5,-83.5 851.5,-129.5 \" stroke=\"#000000\"/>\n",
       "<text fill=\"#000000\" font-family=\"Times,serif\" font-size=\"14.00\" text-anchor=\"middle\" x=\"879\" y=\"-114.3\">input:</text>\n",
       "<polyline fill=\"none\" points=\"851.5,-106.5 906.5,-106.5 \" stroke=\"#000000\"/>\n",
       "<text fill=\"#000000\" font-family=\"Times,serif\" font-size=\"14.00\" text-anchor=\"middle\" x=\"879\" y=\"-91.3\">output:</text>\n",
       "<polyline fill=\"none\" points=\"906.5,-83.5 906.5,-129.5 \" stroke=\"#000000\"/>\n",
       "<text fill=\"#000000\" font-family=\"Times,serif\" font-size=\"14.00\" text-anchor=\"middle\" x=\"941\" y=\"-114.3\">(None, 1)</text>\n",
       "<polyline fill=\"none\" points=\"906.5,-106.5 975.5,-106.5 \" stroke=\"#000000\"/>\n",
       "<text fill=\"#000000\" font-family=\"Times,serif\" font-size=\"14.00\" text-anchor=\"middle\" x=\"941\" y=\"-91.3\">(None, 1)</text>\n",
       "</g>\n",
       "<!-- 140441110897776&#45;&gt;140440597478424 -->\n",
       "<g class=\"edge\" id=\"edge10\">\n",
       "<title>140441110897776-&gt;140440597478424</title>\n",
       "<path d=\"M777.8713,-83.4901C743.5078,-72.9655 702.6327,-60.4466 667.1347,-49.5745\" fill=\"none\" stroke=\"#000000\"/>\n",
       "<polygon fill=\"#000000\" points=\"667.8615,-46.1366 657.2749,-46.5547 665.8115,-52.8298 667.8615,-46.1366\" stroke=\"#000000\"/>\n",
       "</g>\n",
       "</g>\n",
       "</svg>"
      ],
      "text/plain": [
       "<IPython.core.display.SVG object>"
      ]
     },
     "execution_count": 27,
     "metadata": {},
     "output_type": "execute_result"
    }
   ],
   "source": [
    "plot_model(model, show_shapes=True, to_file='model.png')\n",
    "logger.debug(\"Save model architecture to model.png\")\n",
    "SVG(model_to_dot(model, show_shapes=True).create(prog='dot', format='svg'))"
   ]
  },
  {
   "cell_type": "markdown",
   "metadata": {},
   "source": [
    "## Visualize performance before training\n",
    "\n",
    "For the purpose of understanding the performance of this algorithm, we find the baseline result by computing the hamming distance between two representations before training and then plotting the corresponding histogram. Based on the above diagram, we use the representation at layers named `flatten_1` and `flatten_2`, before the fully connected layer defined by HashNet paper."
   ]
  },
  {
   "cell_type": "code",
   "execution_count": 28,
   "metadata": {
    "collapsed": true
   },
   "outputs": [],
   "source": [
    "representation_model = Model(image_a, flatten_a)"
   ]
  },
  {
   "cell_type": "code",
   "execution_count": 29,
   "metadata": {},
   "outputs": [
    {
     "data": {
      "image/png": "[encoded data removed]",
      "text/plain": [
       "<matplotlib.figure.Figure at 0x7fbafe1c1518>"
      ]
     },
     "metadata": {},
     "output_type": "display_data"
    }
   ],
   "source": [
    "plt.figure()\n",
    "hist_sim = []\n",
    "hist_non_sim = []\n",
    "bins = np.linspace(0, 400, 100)\n",
    "\n",
    "pred_X1 = (representation_model.predict(X1) > 0)\n",
    "pred_X2 = (representation_model.predict(X2) > 0)\n",
    "for idx in range(len(X1)):\n",
    "    score = np.count_nonzero(pred_X1[idx] != pred_X2[idx])\n",
    "    similarity = (groundTruth[idx][0] == groundTruth[idx][1])\n",
    "    \n",
    "    if similarity:\n",
    "        hist_sim.append(score)\n",
    "    else:\n",
    "        hist_non_sim.append(score)\n",
    "        \n",
    "plt.ylabel(\"Count\")\n",
    "plt.xlabel(\"$|x-y|$, e.g. Hamming distance\")\n",
    "plt.hist(hist_sim, bins, alpha=0.5, label='Similar pairs', color='blue')\n",
    "plt.hist(hist_non_sim, bins, alpha=0.5, label='Non-similar pairs', color='orange')\n",
    "plt.legend()\n",
    "plt.show()"
   ]
  },
  {
   "cell_type": "markdown",
   "metadata": {},
   "source": [
    "## Train a model"
   ]
  },
  {
   "cell_type": "code",
   "execution_count": 30,
   "metadata": {
    "scrolled": true
   },
   "outputs": [
    {
     "name": "stdout",
     "output_type": "stream",
     "text": [
      "2018-03-04 23:26:55,715 - root - DEBUG - Ready to train the model\n",
      "2018-03-04 23:26:55,717 - root - DEBUG - X1 shape: (1733, 1, 76, 121)\n",
      "2018-03-04 23:26:55,718 - root - DEBUG - X2 shape: (1733, 1, 76, 121)\n",
      "2018-03-04 23:26:55,720 - root - DEBUG - S shape: (1733, 1)\n",
      "2018-03-04 23:26:55,721 - root - DEBUG - W shape: (1733, 1)\n"
     ]
    }
   ],
   "source": [
    "# Check the input shape\n",
    "logger.debug(\"Ready to train the model\")\n",
    "logger.debug(\"X1 shape: {:}\".format(X1.shape))\n",
    "logger.debug(\"X2 shape: {:}\".format(X2.shape))\n",
    "logger.debug(\"S shape: {:}\".format(S.shape))\n",
    "logger.debug(\"W shape: {:}\".format(W.shape))"
   ]
  },
  {
   "cell_type": "code",
   "execution_count": 31,
   "metadata": {},
   "outputs": [
    {
     "name": "stdout",
     "output_type": "stream",
     "text": [
      "2018-03-04 23:26:55,732 - root - DEBUG - [Training] number_of_iterations = 5\n",
      "2018-03-04 23:26:55,734 - root - DEBUG - [Training] beta_factor = 100\n",
      "2018-03-04 23:26:55,735 - root - DEBUG - [Training] number_of_epochs = 200\n"
     ]
    }
   ],
   "source": [
    "number_of_iterations = 5\n",
    "logger.debug(\"[Training] number_of_iterations = {:}\".format(number_of_iterations))\n",
    "beta_factor = 100\n",
    "logger.debug(\"[Training] beta_factor = {:}\".format(beta_factor))\n",
    "number_of_epochs = 200\n",
    "logger.debug(\"[Training] number_of_epochs = {:}\".format(number_of_epochs))"
   ]
  },
  {
   "cell_type": "code",
   "execution_count": 32,
   "metadata": {},
   "outputs": [
    {
     "data": {
      "text/plain": [
       "<matplotlib.image.AxesImage at 0x7fbae5ae3c88>"
      ]
     },
     "execution_count": 32,
     "metadata": {},
     "output_type": "execute_result"
    },
    {
     "data": {
      "image/png": "[encoded data removed]",
      "text/plain": [
       "<matplotlib.figure.Figure at 0x7fbafe2da748>"
      ]
     },
     "metadata": {},
     "output_type": "display_data"
    }
   ],
   "source": [
    "# Visualize the weight at the dense layer before training\n",
    "plt.imshow(dense_layer.get_weights()[0][:20])"
   ]
  },
  {
   "cell_type": "code",
   "execution_count": 33,
   "metadata": {
    "scrolled": true
   },
   "outputs": [
    {
     "name": "stdout",
     "output_type": "stream",
     "text": [
      "2018-03-04 23:26:55,922 - root - DEBUG - Iteration 1 (current beta = 1)\n",
      "2018-03-04 23:28:29,559 - root - DEBUG - Save evaluation plot at iteration 1 to Hamming-Iteration-1.png\n"
     ]
    },
    {
     "data": {
      "image/png": "[encoded data removed]",
      "text/plain": [
       "<matplotlib.figure.Figure at 0x7fbae5b70128>"
      ]
     },
     "metadata": {},
     "output_type": "display_data"
    },
    {
     "name": "stdout",
     "output_type": "stream",
     "text": [
      "2018-03-04 23:28:29,941 - root - DEBUG - Iteration 2 (current beta = 100)\n",
      "2018-03-04 23:30:05,784 - root - DEBUG - Save evaluation plot at iteration 2 to Hamming-Iteration-2.png\n"
     ]
    },
    {
     "data": {
      "image/png": "[encoded data removed]",
      "text/plain": [
       "<matplotlib.figure.Figure at 0x7fbae5b706d8>"
      ]
     },
     "metadata": {},
     "output_type": "display_data"
    },
    {
     "name": "stdout",
     "output_type": "stream",
     "text": [
      "2018-03-04 23:30:06,159 - root - DEBUG - Iteration 3 (current beta = 10000)\n",
      "2018-03-04 23:31:39,704 - root - DEBUG - Save evaluation plot at iteration 3 to Hamming-Iteration-3.png\n"
     ]
    },
    {
     "data": {
      "image/png": "[encoded data removed]",
      "text/plain": [
       "<matplotlib.figure.Figure at 0x7fbafe1e46a0>"
      ]
     },
     "metadata": {},
     "output_type": "display_data"
    },
    {
     "name": "stdout",
     "output_type": "stream",
     "text": [
      "2018-03-04 23:31:40,061 - root - DEBUG - Iteration 4 (current beta = 1000000)\n",
      "2018-03-04 23:33:11,988 - root - DEBUG - Save evaluation plot at iteration 4 to Hamming-Iteration-4.png\n"
     ]
    },
    {
     "data": {
      "image/png": "[encoded data removed]",
      "text/plain": [
       "<matplotlib.figure.Figure at 0x7fbadfc709e8>"
      ]
     },
     "metadata": {},
     "output_type": "display_data"
    },
    {
     "name": "stdout",
     "output_type": "stream",
     "text": [
      "2018-03-04 23:33:12,351 - root - DEBUG - Iteration 5 (current beta = 100000000)\n",
      "2018-03-04 23:34:44,994 - root - DEBUG - Save evaluation plot at iteration 5 to Hamming-Iteration-5.png\n"
     ]
    },
    {
     "data": {
      "image/png": "[encoded data removed]",
      "text/plain": [
       "<matplotlib.figure.Figure at 0x7fbadfc705f8>"
      ]
     },
     "metadata": {},
     "output_type": "display_data"
    }
   ],
   "source": [
    "for m in range(1, number_of_iterations+1):\n",
    "    logger.debug(\"Iteration {:} (current beta = {:})\".format(m, beta))\n",
    "    \n",
    "    # Train a model with 4 inputs and 1 dummy output.\n",
    "    model.fit({'image_1': X1, 'image_2': X2, 'similarity': S, 'weight': W}, [S], verbose=verbose, epochs=number_of_epochs)\n",
    "    beta *= beta_factor\n",
    "    \n",
    "    plt.figure()\n",
    "    hist_sim = []\n",
    "    hist_non_sim = []\n",
    "    bins = np.linspace(0, 400, 100)\n",
    "\n",
    "    representation_model = Model(image_a, encoded_a)\n",
    "    pred_X1 = (representation_model.predict(X1) > 0)\n",
    "    pred_X2 = (representation_model.predict(X2) > 0)\n",
    "    for idx in range(len(X1)):\n",
    "        score = np.count_nonzero(pred_X1[idx] != pred_X2[idx])\n",
    "        similarity = (groundTruth[idx][0] == groundTruth[idx][1])\n",
    "\n",
    "        if similarity:\n",
    "            hist_sim.append(score)\n",
    "        else:\n",
    "            hist_non_sim.append(score)\n",
    "\n",
    "    plt.title(\"Distritubtion of hamming distance at iteration {:}\".format(m))\n",
    "    plt.ylabel(\"Count\")\n",
    "    plt.xlabel(\"$|x-y|$, e.g. Hamming distance\")\n",
    "    plt.hist(hist_sim, bins, alpha=0.5, label='Similar pairs', color='blue')\n",
    "    plt.hist(hist_non_sim, bins, alpha=0.5, label='Non-similar pairs', color='orange')\n",
    "    plt.legend()\n",
    "    plt.savefig(\"Hamming-Iteration-{:}.png\".format(m))\n",
    "    logger.debug(\"Save evaluation plot at iteration {:} to Hamming-Iteration-{:}.png\".format(m, m))\n",
    "    plt.show()"
   ]
  },
  {
   "cell_type": "code",
   "execution_count": 34,
   "metadata": {},
   "outputs": [
    {
     "data": {
      "text/plain": [
       "<matplotlib.image.AxesImage at 0x7fbafdeddc18>"
      ]
     },
     "execution_count": 34,
     "metadata": {},
     "output_type": "execute_result"
    },
    {
     "data": {
      "image/png": "[encoded data removed]",
      "text/plain": [
       "<matplotlib.figure.Figure at 0x7fbadfa545c0>"
      ]
     },
     "metadata": {},
     "output_type": "display_data"
    }
   ],
   "source": [
    "# Visualize the weight at the dense layer after training\n",
    "plt.imshow(dense_layer.get_weights()[0][:20])"
   ]
  },
  {
   "cell_type": "markdown",
   "metadata": {},
   "source": [
    "## Save Model"
   ]
  },
  {
   "cell_type": "code",
   "execution_count": 35,
   "metadata": {},
   "outputs": [
    {
     "name": "stdout",
     "output_type": "stream",
     "text": [
      "2018-03-04 23:34:45,715 - root - DEBUG - Save model to 2018-03-04[HashNet][Iteration=5].h5\n"
     ]
    }
   ],
   "source": [
    "MODEL_NAME = str(datetime.date.today()) + EXPERIMENT_NAME + \"[Iteration={:}]\".format(number_of_iterations)\n",
    "logger.debug(\"Save model to {:}.h5\".format(MODEL_NAME))\n",
    "model.save(MODEL_NAME + \".h5\")"
   ]
  },
  {
   "cell_type": "markdown",
   "metadata": {},
   "source": [
    "## Visualize Performance "
   ]
  },
  {
   "cell_type": "markdown",
   "metadata": {},
   "source": [
    "__Obtain a representation model__\n",
    "\n",
    "This representation model is the same as the trained model above without the loss layer at the very end."
   ]
  },
  {
   "cell_type": "code",
   "execution_count": 36,
   "metadata": {
    "collapsed": true
   },
   "outputs": [],
   "source": [
    "representation_model = Model(image_a, encoded_a)"
   ]
  },
  {
   "cell_type": "code",
   "execution_count": 37,
   "metadata": {},
   "outputs": [
    {
     "data": {
      "text/plain": [
       "<matplotlib.image.AxesImage at 0x7fbadfadada0>"
      ]
     },
     "execution_count": 37,
     "metadata": {},
     "output_type": "execute_result"
    },
    {
     "data": {
      "image/png": "[encoded data removed]",
      "text/plain": [
       "<matplotlib.figure.Figure at 0x7fbadf9176a0>"
      ]
     },
     "metadata": {},
     "output_type": "display_data"
    }
   ],
   "source": [
    "# Get sample output\n",
    "pred_X1 = representation_model.predict(X1)\n",
    "plt.imshow(pred_X1[:30] > 0)"
   ]
  },
  {
   "cell_type": "markdown",
   "metadata": {
    "collapsed": true
   },
   "source": [
    "## Evaluate Performance\n",
    "Calculate the hamming distance input pairs and plot the corresponding histogram."
   ]
  },
  {
   "cell_type": "code",
   "execution_count": 38,
   "metadata": {
    "collapsed": true
   },
   "outputs": [],
   "source": [
    "representation_model = Model(image_a, encoded_a)"
   ]
  },
  {
   "cell_type": "code",
   "execution_count": 39,
   "metadata": {},
   "outputs": [
    {
     "data": {
      "image/png": "[encoded data removed]",
      "text/plain": [
       "<matplotlib.figure.Figure at 0x7fbafe0c9668>"
      ]
     },
     "metadata": {},
     "output_type": "display_data"
    }
   ],
   "source": [
    "plt.figure()\n",
    "hist_sim = []\n",
    "hist_non_sim = []\n",
    "bins = np.linspace(0, 400, 100)\n",
    "\n",
    "pred_X1 = (representation_model.predict(X1) > 0)\n",
    "pred_X2 = (representation_model.predict(X2) > 0)\n",
    "for idx in range(len(X1)):\n",
    "    score = np.count_nonzero(pred_X1[idx] != pred_X2[idx])\n",
    "    similarity = (groundTruth[idx][0] == groundTruth[idx][1])\n",
    "    \n",
    "    if similarity:\n",
    "        hist_sim.append(score)\n",
    "    else:\n",
    "        hist_non_sim.append(score)\n",
    "        \n",
    "plt.ylabel(\"Count\")\n",
    "plt.xlabel(\"$|x-y|$, e.g. Hamming distance\")\n",
    "plt.hist(hist_sim, bins, alpha=0.5, label='Similar pairs', color='blue')\n",
    "plt.hist(hist_non_sim, bins, alpha=0.5, label='Non-similar pairs', color='orange')\n",
    "plt.legend()\n",
    "plt.show()"
   ]
  },
  {
   "cell_type": "code",
   "execution_count": null,
   "metadata": {
    "collapsed": true
   },
   "outputs": [],
   "source": [
    "\n",
    "\n"
   ]
  }
 ],
 "metadata": {
  "kernelspec": {
   "display_name": "Python 3",
   "language": "python",
   "name": "python3"
  },
  "language_info": {
   "codemirror_mode": {
    "name": "ipython",
    "version": 3
   },
   "file_extension": ".py",
   "mimetype": "text/x-python",
   "name": "python",
   "nbconvert_exporter": "python",
   "pygments_lexer": "ipython3",
   "version": "3.6.3"
  }
 },
 "nbformat": 4,
 "nbformat_minor": 2
}
