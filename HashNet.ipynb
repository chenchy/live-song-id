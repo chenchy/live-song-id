{
 "cells": [
  {
   "cell_type": "code",
   "execution_count": 1,
   "metadata": {},
   "outputs": [
    {
     "name": "stderr",
     "output_type": "stream",
     "text": [
      "/home/mirlab/miniconda3/lib/python3.6/site-packages/h5py/__init__.py:36: FutureWarning: Conversion of the second argument of issubdtype from `float` to `np.floating` is deprecated. In future, it will be treated as `np.float64 == np.dtype(float).type`.\n",
      "  from ._conv import register_converters as _register_converters\n",
      "Using TensorFlow backend.\n"
     ]
    }
   ],
   "source": [
    "import tensorflow as tf\n",
    "from keras.datasets import mnist\n",
    "from keras.preprocessing.image import ImageDataGenerator\n",
    "from keras.models import Sequential, Model\n",
    "from keras.layers.core import Activation, Flatten, Dense, Dropout\n",
    "from keras.layers.convolutional import Convolution2D, MaxPooling2D, ZeroPadding2D\n",
    "from keras.layers import Input, Concatenate, Layer\n",
    "from keras.applications import vgg19\n",
    "from keras.utils import plot_model\n",
    "from keras.optimizers import RMSprop\n",
    "from keras import backend as K\n",
    "import keras\n",
    "import h5py\n",
    "import numpy as np\n",
    "import matplotlib.pyplot as plt\n",
    "from scipy import ndimage\n",
    "\n",
    "%matplotlib inline"
   ]
  },
  {
   "cell_type": "code",
   "execution_count": null,
   "metadata": {},
   "outputs": [],
   "source": []
  },
  {
   "cell_type": "code",
   "execution_count": null,
   "metadata": {},
   "outputs": [],
   "source": []
  },
  {
   "cell_type": "markdown",
   "metadata": {},
   "source": [
    "## Config Keras"
   ]
  },
  {
   "cell_type": "code",
   "execution_count": 4,
   "metadata": {},
   "outputs": [
    {
     "data": {
      "text/plain": [
       "'channels_last'"
      ]
     },
     "execution_count": 4,
     "metadata": {},
     "output_type": "execute_result"
    }
   ],
   "source": [
    "keras.backend.set_image_data_format('channels_last')\n",
    "keras.backend.image_data_format()"
   ]
  },
  {
   "cell_type": "markdown",
   "metadata": {},
   "source": [
    "## Load MNIST dataset"
   ]
  },
  {
   "cell_type": "code",
   "execution_count": 5,
   "metadata": {},
   "outputs": [
    {
     "name": "stdout",
     "output_type": "stream",
     "text": [
      "X shape: (10000, 28, 28)\n",
      "y.shape: (10000,)\n"
     ]
    }
   ],
   "source": [
    "num_classes = 10\n",
    "_, (X, y) = mnist.load_data()\n",
    "X = X.astype('float32')\n",
    "X /= 255\n",
    "print('X shape:', X.shape)\n",
    "\n",
    "# convert class vectors to binary class matrices\n",
    "print('y.shape:', y.shape)"
   ]
  },
  {
   "cell_type": "markdown",
   "metadata": {},
   "source": [
    "## Preprocessing\n",
    "Obtain a matrix $X_1$, $X_2$, $[w_{ij}]$, and $[s_{ij}]$ where $X_1$ and $X_2$ are pairs of images of shape \n",
    "`(n_samples, height, width, 1)`; $[w_{ij}]$ is the weight vector of shape `(n_samples, 1)` which describes the weight of each pair; and $[s_{ij}]$ is a binary vector of shape `(n_samples,1)` indicating whether inputs $i$ and $j$ are the same "
   ]
  },
  {
   "cell_type": "code",
   "execution_count": 7,
   "metadata": {
    "scrolled": true
   },
   "outputs": [],
   "source": [
    "X1 = []\n",
    "X2 = []\n",
    "tmpy = []\n",
    "actual = []\n",
    "for n in range(1000):\n",
    "    idx = np.random.randint(X.shape[0], size=2)\n",
    "    similarity = (y[idx[0]] == y[idx[1]])\n",
    "    X1.append(X[idx[0]].reshape(28,28,1))\n",
    "    X2.append(X[idx[1]].reshape(28,28,1))\n",
    "    actual.append((idx[0], idx[1]))\n",
    "    tmpy.append(similarity)\n",
    "X1 = np.array(X1)\n",
    "X2 = np.array(X2)\n",
    "y = np.array(tmpy).reshape(-1,1)\n",
    "actual = np.array(actual)"
   ]
  },
  {
   "cell_type": "markdown",
   "metadata": {},
   "source": [
    "Calculate the weight vector $[w_{ij}]$. The term $w_{ij}$ is defined as \n",
    "\n",
    "$$\n",
    "    w_{ij} = \\begin{cases}\n",
    "    \\frac{|S|}{|S_{1}|} &\\text{if $x^{(i)}$ is similar to $x^{(j)}$}\\\\\n",
    "    \\frac{|S|}{|S_{0}|} &\\text{if $x^{(i)}$ is not similar to $x^{(j)}$}\n",
    "    \\end{cases}\n",
    "$$"
   ]
  },
  {
   "cell_type": "code",
   "execution_count": 8,
   "metadata": {},
   "outputs": [],
   "source": [
    "n_sim = len(y[y==True])\n",
    "w_sim   = len(X) / n_sim             # w_ij for similar pairs\n",
    "w_insim = len(X) / (len(X) - n_sim)  # w_ij for dissimilar pairs\n",
    "W = y*w_sim + (~y)*w_insim          # w vector for pairs"
   ]
  },
  {
   "cell_type": "code",
   "execution_count": 9,
   "metadata": {},
   "outputs": [],
   "source": [
    "y = y.astype('float32')"
   ]
  },
  {
   "cell_type": "markdown",
   "metadata": {},
   "source": [
    "Output some statistics and matrix shape."
   ]
  },
  {
   "cell_type": "code",
   "execution_count": 10,
   "metadata": {},
   "outputs": [
    {
     "name": "stdout",
     "output_type": "stream",
     "text": [
      "X1 shape:  (1000, 28, 28, 1)\n",
      "X2 shape:  (1000, 28, 28, 1)\n",
      "y shape:  (1000, 1)\n",
      "W shape:  (1000, 1)\n",
      "There are 112 out of 1000 pairs that are similar\n"
     ]
    }
   ],
   "source": [
    "print(\"X1 shape: \", X1.shape)\n",
    "print(\"X2 shape: \", X2.shape)\n",
    "print(\"y shape: \", y.shape)\n",
    "print(\"W shape: \", W.shape)\n",
    "print(\"There are {:} out of {:} pairs that are similar\".format(n_sim, len(X1)))"
   ]
  },
  {
   "cell_type": "markdown",
   "metadata": {},
   "source": [
    "# Paired-Annotation Input"
   ]
  },
  {
   "cell_type": "code",
   "execution_count": null,
   "metadata": {},
   "outputs": [],
   "source": [
    "from songdb import *\n",
    "import librosa\n",
    "from preprocess import *"
   ]
  },
  {
   "cell_type": "code",
   "execution_count": null,
   "metadata": {},
   "outputs": [],
   "source": [
    "data = data_dict()\n",
    "ref_query_pairs = data['taylorswift']"
   ]
  },
  {
   "cell_type": "code",
   "execution_count": null,
   "metadata": {},
   "outputs": [],
   "source": [
    "pairedData = np.array([np.zeros((2, 76, 121))])\n",
    "\n",
    "for ref, query in ref_query_pairs:\n",
    "    for i in range(ref.shape[0]):\n",
    "        refQ = preprocess(librosa.cqt(np.asfarray(ref[i], dtype='float32'), sr = 22050, fmin=130.81, n_bins=121, bins_per_octave=24, hop_length=96), 3).T\n",
    "        queryQ = preprocess(librosa.cqt(np.asfarray(query[i], dtype='float32'), sr = 22050, fmin=130.81, n_bins=121, bins_per_octave=24, hop_length=96), 3).T\n",
    "        Q = np.append(np.array([refQ]), np.array([queryQ]), axis=0)\n",
    "        pairedData = np.append(pairedData, np.array([Q]), axis=0)\n",
    "        \n",
    "pairedData = pairedData[1:]"
   ]
  },
  {
   "cell_type": "markdown",
   "metadata": {},
   "source": [
    "# Load PCA Model"
   ]
  },
  {
   "cell_type": "code",
   "execution_count": null,
   "metadata": {},
   "outputs": [],
   "source": [
    "import scipy.io\n",
    "from model import *"
   ]
  },
  {
   "cell_type": "code",
   "execution_count": null,
   "metadata": {},
   "outputs": [],
   "source": [
    "model_path = '/data1/mint/public/taylorswift_out/model.mat'\n",
    "model = scipy.io.loadmat(model_path)\n",
    "evecs = np.array(model['eigvecs']).T"
   ]
  },
  {
   "cell_type": "code",
   "execution_count": null,
   "metadata": {},
   "outputs": [],
   "source": [
    "m = 20\n",
    "pca_matrix = np.array([vec.reshape((m, -1)) for vec in evecs])\n",
    "delta = 16"
   ]
  },
  {
   "cell_type": "code",
   "execution_count": null,
   "metadata": {},
   "outputs": [],
   "source": [
    "fp_net = build_model(pca_matrix, refQ.shape, delta=delta, COMPUTE_DELTA=True)"
   ]
  },
  {
   "cell_type": "markdown",
   "metadata": {},
   "source": [
    "## Model\n",
    "\n",
    "__Define inputs__\n",
    "\n",
    "Create a HashNet model with four inputs: two images tensors, similarity vector, and weight vector."
   ]
  },
  {
   "cell_type": "code",
   "execution_count": 11,
   "metadata": {},
   "outputs": [],
   "source": [
    "height = 28\n",
    "width = 28\n",
    "n_channel = 1"
   ]
  },
  {
   "cell_type": "code",
   "execution_count": 12,
   "metadata": {
    "scrolled": false
   },
   "outputs": [],
   "source": [
    "image_a    = Input(shape=(height, width, n_channel), name='image_1')\n",
    "image_b    = Input(shape=(height, width, n_channel), name='image_2')\n",
    "similarity = Input(shape=(1,), name=\"similarity\")\n",
    "weight     = Input(shape=(1,), name=\"weight\")"
   ]
  },
  {
   "cell_type": "code",
   "execution_count": 13,
   "metadata": {},
   "outputs": [
    {
     "data": {
      "text/plain": [
       "tensorflow.python.framework.ops.Tensor"
      ]
     },
     "execution_count": 13,
     "metadata": {},
     "output_type": "execute_result"
    }
   ],
   "source": [
    "type(image_a)"
   ]
  },
  {
   "cell_type": "code",
   "execution_count": null,
   "metadata": {},
   "outputs": [],
   "source": []
  },
  {
   "cell_type": "markdown",
   "metadata": {},
   "source": [
    "__Pre-trained model__\n",
    "\n",
    "Use a pre-trained model here to obtain intermediate values from the pre-trained model."
   ]
  },
  {
   "cell_type": "code",
   "execution_count": 42,
   "metadata": {},
   "outputs": [],
   "source": [
    "input_image = Input(shape=(height, width, n_channel))\n",
    "layer1 = Convolution2D(64, (3,3), activation='relu', padding='same', name='block1_conv1')(input_image)\n",
    "layer2 = Convolution2D(64, (3,3), activation='relu', padding='same', name='block1_conv2')(layer1)\n",
    "layer3 = MaxPooling2D((2,2), strides=(2,2), name='block1_pool')(layer2)\n",
    "\n",
    "base_model = Model(input_image, layer3)"
   ]
  },
  {
   "cell_type": "code",
   "execution_count": 43,
   "metadata": {},
   "outputs": [
    {
     "data": {
      "image/svg+xml": [
       "<svg height=\"264pt\" viewBox=\"0.00 0.00 184.00 264.00\" width=\"184pt\" xmlns=\"http://www.w3.org/2000/svg\" xmlns:xlink=\"http://www.w3.org/1999/xlink\">\n",
       "<g class=\"graph\" id=\"graph0\" transform=\"scale(1 1) rotate(0) translate(4 260)\">\n",
       "<title>G</title>\n",
       "<polygon fill=\"white\" points=\"-4,4 -4,-260 180,-260 180,4 -4,4\" stroke=\"none\"/>\n",
       "<!-- 139929232778856 -->\n",
       "<g class=\"node\" id=\"node1\"><title>139929232778856</title>\n",
       "<polygon fill=\"none\" points=\"25.5,-219.5 25.5,-255.5 150.5,-255.5 150.5,-219.5 25.5,-219.5\" stroke=\"black\"/>\n",
       "<text font-family=\"Times,serif\" font-size=\"14.00\" text-anchor=\"middle\" x=\"88\" y=\"-233.8\">input_2: InputLayer</text>\n",
       "</g>\n",
       "<!-- 139929232779528 -->\n",
       "<g class=\"node\" id=\"node2\"><title>139929232779528</title>\n",
       "<polygon fill=\"none\" points=\"15,-146.5 15,-182.5 161,-182.5 161,-146.5 15,-146.5\" stroke=\"black\"/>\n",
       "<text font-family=\"Times,serif\" font-size=\"14.00\" text-anchor=\"middle\" x=\"88\" y=\"-160.8\">block1_conv1: Conv2D</text>\n",
       "</g>\n",
       "<!-- 139929232778856&#45;&gt;139929232779528 -->\n",
       "<g class=\"edge\" id=\"edge1\"><title>139929232778856-&gt;139929232779528</title>\n",
       "<path d=\"M88,-219.313C88,-211.289 88,-201.547 88,-192.569\" fill=\"none\" stroke=\"black\"/>\n",
       "<polygon fill=\"black\" points=\"91.5001,-192.529 88,-182.529 84.5001,-192.529 91.5001,-192.529\" stroke=\"black\"/>\n",
       "</g>\n",
       "<!-- 139929656626088 -->\n",
       "<g class=\"node\" id=\"node3\"><title>139929656626088</title>\n",
       "<polygon fill=\"none\" points=\"15,-73.5 15,-109.5 161,-109.5 161,-73.5 15,-73.5\" stroke=\"black\"/>\n",
       "<text font-family=\"Times,serif\" font-size=\"14.00\" text-anchor=\"middle\" x=\"88\" y=\"-87.8\">block1_conv2: Conv2D</text>\n",
       "</g>\n",
       "<!-- 139929232779528&#45;&gt;139929656626088 -->\n",
       "<g class=\"edge\" id=\"edge2\"><title>139929232779528-&gt;139929656626088</title>\n",
       "<path d=\"M88,-146.313C88,-138.289 88,-128.547 88,-119.569\" fill=\"none\" stroke=\"black\"/>\n",
       "<polygon fill=\"black\" points=\"91.5001,-119.529 88,-109.529 84.5001,-119.529 91.5001,-119.529\" stroke=\"black\"/>\n",
       "</g>\n",
       "<!-- 139929656625416 -->\n",
       "<g class=\"node\" id=\"node4\"><title>139929656625416</title>\n",
       "<polygon fill=\"none\" points=\"-1.42109e-14,-0.5 -1.42109e-14,-36.5 176,-36.5 176,-0.5 -1.42109e-14,-0.5\" stroke=\"black\"/>\n",
       "<text font-family=\"Times,serif\" font-size=\"14.00\" text-anchor=\"middle\" x=\"88\" y=\"-14.8\">block1_pool: MaxPooling2D</text>\n",
       "</g>\n",
       "<!-- 139929656626088&#45;&gt;139929656625416 -->\n",
       "<g class=\"edge\" id=\"edge3\"><title>139929656626088-&gt;139929656625416</title>\n",
       "<path d=\"M88,-73.3129C88,-65.2895 88,-55.5475 88,-46.5691\" fill=\"none\" stroke=\"black\"/>\n",
       "<polygon fill=\"black\" points=\"91.5001,-46.5288 88,-36.5288 84.5001,-46.5289 91.5001,-46.5288\" stroke=\"black\"/>\n",
       "</g>\n",
       "</g>\n",
       "</svg>"
      ],
      "text/plain": [
       "<IPython.core.display.SVG object>"
      ]
     },
     "execution_count": 43,
     "metadata": {},
     "output_type": "execute_result"
    }
   ],
   "source": [
    "from IPython.display import SVG\n",
    "from keras.utils.vis_utils import model_to_dot\n",
    "\n",
    "SVG(model_to_dot(base_model).create(prog='dot', format='svg'))"
   ]
  },
  {
   "cell_type": "markdown",
   "metadata": {},
   "source": [
    "__Obtain intermediate values__"
   ]
  },
  {
   "cell_type": "code",
   "execution_count": 15,
   "metadata": {},
   "outputs": [],
   "source": [
    "# Obtain intermediate tensor\n",
    "intermediate_a = base_model(image_a)\n",
    "intermediate_b = base_model(image_b)\n",
    "\n",
    "# Flatten the layer\n",
    "flatten_a = Flatten()(intermediate_a)\n",
    "flatten_b = Flatten()(intermediate_b)"
   ]
  },
  {
   "cell_type": "markdown",
   "metadata": {},
   "source": [
    "__Append a layer for binary encoding__\n",
    "\n",
    "This layer has a `tanh` activation defined in the same way as HashNet paper."
   ]
  },
  {
   "cell_type": "code",
   "execution_count": 16,
   "metadata": {},
   "outputs": [],
   "source": [
    "beta         = 1            # Initial beta value\n",
    "numberOfBits = 6          \n",
    "alpha        = 0.5"
   ]
  },
  {
   "cell_type": "code",
   "execution_count": 17,
   "metadata": {},
   "outputs": [],
   "source": [
    "def custom_activation(x):\n",
    "    \"\"\"\n",
    "    Our own defined activation function\n",
    "    \"\"\"\n",
    "    global beta\n",
    "    return K.tanh(beta * x)"
   ]
  },
  {
   "cell_type": "code",
   "execution_count": 18,
   "metadata": {},
   "outputs": [],
   "source": [
    "class CustomizedLossLayer(Layer):\n",
    "    \"\"\"\n",
    "    Our own defined layer for keeping track of loss function\n",
    "    \"\"\"\n",
    "    \n",
    "    def __init__(self, **kwargs):\n",
    "        self.is_placeholder = True\n",
    "        super(CustomizedLossLayer, self).__init__(**kwargs)\n",
    "    \n",
    "    def my_loss(self, encoded_a, encoded_b, similarity, weight):\n",
    "        global alpha\n",
    "        x = encoded_a\n",
    "        y = encoded_b\n",
    "        dot_product = K.sum(x * y, axis=-1, keepdims=True)\n",
    "        return K.sum(weight * (K.log(1 + K.exp(alpha * dot_product)) - alpha * similarity * dot_product))\n",
    "    \n",
    "    def call(self, inputs):\n",
    "        encoded_a = inputs[0]\n",
    "        encoded_b = inputs[1]\n",
    "        similarity = inputs[2]\n",
    "        weight = inputs[3]\n",
    "        loss = self.my_loss(encoded_a, encoded_b, similarity, weight)\n",
    "        self.add_loss(loss, inputs=inputs)\n",
    "        return K.ones_like(similarity)\n"
   ]
  },
  {
   "cell_type": "code",
   "execution_count": 19,
   "metadata": {},
   "outputs": [],
   "source": [
    "dense_layer = Dense(numberOfBits, activation=custom_activation)\n",
    "encoded_a = dense_layer(flatten_a)\n",
    "encoded_b = dense_layer(flatten_b)"
   ]
  },
  {
   "cell_type": "markdown",
   "metadata": {},
   "source": [
    "__Create a model for training__"
   ]
  },
  {
   "cell_type": "code",
   "execution_count": 20,
   "metadata": {},
   "outputs": [],
   "source": [
    "# Define a loss layer with 4 inputs\n",
    "loss = CustomizedLossLayer()([encoded_a, encoded_b, similarity, weight])"
   ]
  },
  {
   "cell_type": "code",
   "execution_count": 21,
   "metadata": {},
   "outputs": [],
   "source": [
    "# Define a model that has 4 inputs and outputs loss\n",
    "model = Model(inputs=[image_a, image_b, similarity, weight], outputs=[loss])"
   ]
  },
  {
   "cell_type": "code",
   "execution_count": 22,
   "metadata": {},
   "outputs": [],
   "source": [
    "# Compile the model with our own defined loss function.\n",
    "# Note that loss function is already defined in a layer, so\n",
    "# `zero_loss` here doesn't actually do anything.\n",
    "\n",
    "def zero_loss(y_true, y_pred):\n",
    "    return K.zeros_like(y_pred)\n",
    "\n",
    "rmsprop = RMSprop()\n",
    "model.compile(optimizer=rmsprop, loss=zero_loss)"
   ]
  },
  {
   "cell_type": "markdown",
   "metadata": {},
   "source": [
    "__Visualize model architecture__"
   ]
  },
  {
   "cell_type": "code",
   "execution_count": 23,
   "metadata": {
    "scrolled": false
   },
   "outputs": [
    {
     "data": {
      "image/svg+xml": [
       "<svg height=\"337pt\" viewBox=\"0.00 0.00 493.00 337.00\" width=\"493pt\" xmlns=\"http://www.w3.org/2000/svg\" xmlns:xlink=\"http://www.w3.org/1999/xlink\">\n",
       "<g class=\"graph\" id=\"graph0\" transform=\"scale(1 1) rotate(0) translate(4 333)\">\n",
       "<title>G</title>\n",
       "<polygon fill=\"white\" points=\"-4,4 -4,-333 489,-333 489,4 -4,4\" stroke=\"none\"/>\n",
       "<!-- 139930765640536 -->\n",
       "<g class=\"node\" id=\"node1\"><title>139930765640536</title>\n",
       "<polygon fill=\"none\" points=\"0,-292.5 0,-328.5 131,-328.5 131,-292.5 0,-292.5\" stroke=\"black\"/>\n",
       "<text font-family=\"Times,serif\" font-size=\"14.00\" text-anchor=\"middle\" x=\"65.5\" y=\"-306.8\">image_1: InputLayer</text>\n",
       "</g>\n",
       "<!-- 139930765826872 -->\n",
       "<g class=\"node\" id=\"node3\"><title>139930765826872</title>\n",
       "<polygon fill=\"none\" points=\"85.5,-219.5 85.5,-255.5 193.5,-255.5 193.5,-219.5 85.5,-219.5\" stroke=\"black\"/>\n",
       "<text font-family=\"Times,serif\" font-size=\"14.00\" text-anchor=\"middle\" x=\"139.5\" y=\"-233.8\">model_1: Model</text>\n",
       "</g>\n",
       "<!-- 139930765640536&#45;&gt;139930765826872 -->\n",
       "<g class=\"edge\" id=\"edge1\"><title>139930765640536-&gt;139930765826872</title>\n",
       "<path d=\"M83.4133,-292.313C92.6847,-283.417 104.158,-272.409 114.307,-262.672\" fill=\"none\" stroke=\"black\"/>\n",
       "<polygon fill=\"black\" points=\"116.959,-264.978 121.752,-255.529 112.113,-259.927 116.959,-264.978\" stroke=\"black\"/>\n",
       "</g>\n",
       "<!-- 139930765642496 -->\n",
       "<g class=\"node\" id=\"node2\"><title>139930765642496</title>\n",
       "<polygon fill=\"none\" points=\"149,-292.5 149,-328.5 280,-328.5 280,-292.5 149,-292.5\" stroke=\"black\"/>\n",
       "<text font-family=\"Times,serif\" font-size=\"14.00\" text-anchor=\"middle\" x=\"214.5\" y=\"-306.8\">image_2: InputLayer</text>\n",
       "</g>\n",
       "<!-- 139930765642496&#45;&gt;139930765826872 -->\n",
       "<g class=\"edge\" id=\"edge2\"><title>139930765642496-&gt;139930765826872</title>\n",
       "<path d=\"M196.345,-292.313C186.948,-283.417 175.32,-272.409 165.033,-262.672\" fill=\"none\" stroke=\"black\"/>\n",
       "<polygon fill=\"black\" points=\"167.156,-259.862 157.488,-255.529 162.344,-264.945 167.156,-259.862\" stroke=\"black\"/>\n",
       "</g>\n",
       "<!-- 139930765641880 -->\n",
       "<g class=\"node\" id=\"node4\"><title>139930765641880</title>\n",
       "<polygon fill=\"none\" points=\"20.5,-146.5 20.5,-182.5 130.5,-182.5 130.5,-146.5 20.5,-146.5\" stroke=\"black\"/>\n",
       "<text font-family=\"Times,serif\" font-size=\"14.00\" text-anchor=\"middle\" x=\"75.5\" y=\"-160.8\">flatten_1: Flatten</text>\n",
       "</g>\n",
       "<!-- 139930765826872&#45;&gt;139930765641880 -->\n",
       "<g class=\"edge\" id=\"edge3\"><title>139930765826872-&gt;139930765641880</title>\n",
       "<path d=\"M124.007,-219.313C116.068,-210.505 106.261,-199.625 97.547,-189.958\" fill=\"none\" stroke=\"black\"/>\n",
       "<polygon fill=\"black\" points=\"100.145,-187.613 90.8499,-182.529 94.9457,-192.3 100.145,-187.613\" stroke=\"black\"/>\n",
       "</g>\n",
       "<!-- 139930765639976 -->\n",
       "<g class=\"node\" id=\"node5\"><title>139930765639976</title>\n",
       "<polygon fill=\"none\" points=\"148.5,-146.5 148.5,-182.5 258.5,-182.5 258.5,-146.5 148.5,-146.5\" stroke=\"black\"/>\n",
       "<text font-family=\"Times,serif\" font-size=\"14.00\" text-anchor=\"middle\" x=\"203.5\" y=\"-160.8\">flatten_2: Flatten</text>\n",
       "</g>\n",
       "<!-- 139930765826872&#45;&gt;139930765639976 -->\n",
       "<g class=\"edge\" id=\"edge4\"><title>139930765826872-&gt;139930765639976</title>\n",
       "<path d=\"M154.993,-219.313C162.932,-210.505 172.739,-199.625 181.453,-189.958\" fill=\"none\" stroke=\"black\"/>\n",
       "<polygon fill=\"black\" points=\"184.054,-192.3 188.15,-182.529 178.855,-187.613 184.054,-192.3\" stroke=\"black\"/>\n",
       "</g>\n",
       "<!-- 139930717542440 -->\n",
       "<g class=\"node\" id=\"node6\"><title>139930717542440</title>\n",
       "<polygon fill=\"none\" points=\"88.5,-73.5 88.5,-109.5 190.5,-109.5 190.5,-73.5 88.5,-73.5\" stroke=\"black\"/>\n",
       "<text font-family=\"Times,serif\" font-size=\"14.00\" text-anchor=\"middle\" x=\"139.5\" y=\"-87.8\">dense_1: Dense</text>\n",
       "</g>\n",
       "<!-- 139930765641880&#45;&gt;139930717542440 -->\n",
       "<g class=\"edge\" id=\"edge5\"><title>139930765641880-&gt;139930717542440</title>\n",
       "<path d=\"M90.9926,-146.313C98.9325,-137.505 108.739,-126.625 117.453,-116.958\" fill=\"none\" stroke=\"black\"/>\n",
       "<polygon fill=\"black\" points=\"120.054,-119.3 124.15,-109.529 114.855,-114.613 120.054,-119.3\" stroke=\"black\"/>\n",
       "</g>\n",
       "<!-- 139930765639976&#45;&gt;139930717542440 -->\n",
       "<g class=\"edge\" id=\"edge6\"><title>139930765639976-&gt;139930717542440</title>\n",
       "<path d=\"M188.007,-146.313C180.068,-137.505 170.261,-126.625 161.547,-116.958\" fill=\"none\" stroke=\"black\"/>\n",
       "<polygon fill=\"black\" points=\"164.145,-114.613 154.85,-109.529 158.946,-119.3 164.145,-114.613\" stroke=\"black\"/>\n",
       "</g>\n",
       "<!-- 139930717541880 -->\n",
       "<g class=\"node\" id=\"node9\"><title>139930717541880</title>\n",
       "<polygon fill=\"none\" points=\"135.5,-0.5 135.5,-36.5 419.5,-36.5 419.5,-0.5 135.5,-0.5\" stroke=\"black\"/>\n",
       "<text font-family=\"Times,serif\" font-size=\"14.00\" text-anchor=\"middle\" x=\"277.5\" y=\"-14.8\">customized_loss_layer_1: CustomizedLossLayer</text>\n",
       "</g>\n",
       "<!-- 139930717542440&#45;&gt;139930717541880 -->\n",
       "<g class=\"edge\" id=\"edge7\"><title>139930717542440-&gt;139930717541880</title>\n",
       "<path d=\"M172.554,-73.4937C191.363,-63.817 215.115,-51.5967 235.264,-41.2303\" fill=\"none\" stroke=\"black\"/>\n",
       "<polygon fill=\"black\" points=\"236.946,-44.3008 244.237,-36.6136 233.744,-38.0763 236.946,-44.3008\" stroke=\"black\"/>\n",
       "</g>\n",
       "<!-- 139930765642104 -->\n",
       "<g class=\"node\" id=\"node7\"><title>139930765642104</title>\n",
       "<polygon fill=\"none\" points=\"209,-73.5 209,-109.5 346,-109.5 346,-73.5 209,-73.5\" stroke=\"black\"/>\n",
       "<text font-family=\"Times,serif\" font-size=\"14.00\" text-anchor=\"middle\" x=\"277.5\" y=\"-87.8\">similarity: InputLayer</text>\n",
       "</g>\n",
       "<!-- 139930765642104&#45;&gt;139930717541880 -->\n",
       "<g class=\"edge\" id=\"edge9\"><title>139930765642104-&gt;139930717541880</title>\n",
       "<path d=\"M277.5,-73.3129C277.5,-65.2895 277.5,-55.5475 277.5,-46.5691\" fill=\"none\" stroke=\"black\"/>\n",
       "<polygon fill=\"black\" points=\"281,-46.5288 277.5,-36.5288 274,-46.5289 281,-46.5288\" stroke=\"black\"/>\n",
       "</g>\n",
       "<!-- 139930765643392 -->\n",
       "<g class=\"node\" id=\"node8\"><title>139930765643392</title>\n",
       "<polygon fill=\"none\" points=\"364,-73.5 364,-109.5 485,-109.5 485,-73.5 364,-73.5\" stroke=\"black\"/>\n",
       "<text font-family=\"Times,serif\" font-size=\"14.00\" text-anchor=\"middle\" x=\"424.5\" y=\"-87.8\">weight: InputLayer</text>\n",
       "</g>\n",
       "<!-- 139930765643392&#45;&gt;139930717541880 -->\n",
       "<g class=\"edge\" id=\"edge10\"><title>139930765643392-&gt;139930717541880</title>\n",
       "<path d=\"M389.29,-73.4937C369.165,-63.7734 343.726,-51.4866 322.201,-41.0903\" fill=\"none\" stroke=\"black\"/>\n",
       "<polygon fill=\"black\" points=\"323.459,-37.8112 312.932,-36.6136 320.415,-44.1145 323.459,-37.8112\" stroke=\"black\"/>\n",
       "</g>\n",
       "</g>\n",
       "</svg>"
      ],
      "text/plain": [
       "<IPython.core.display.SVG object>"
      ]
     },
     "execution_count": 23,
     "metadata": {},
     "output_type": "execute_result"
    }
   ],
   "source": [
    "from IPython.display import SVG\n",
    "from keras.utils.vis_utils import model_to_dot\n",
    "\n",
    "SVG(model_to_dot(model).create(prog='dot', format='svg'))"
   ]
  },
  {
   "cell_type": "markdown",
   "metadata": {},
   "source": [
    "## Train a model"
   ]
  },
  {
   "cell_type": "code",
   "execution_count": 24,
   "metadata": {
    "scrolled": true
   },
   "outputs": [
    {
     "name": "stdout",
     "output_type": "stream",
     "text": [
      "X1.shape:  (1000, 28, 28, 1)\n",
      "X2.shape:  (1000, 28, 28, 1)\n",
      "y.shape:  (1000, 1)\n",
      "W.shape:  (1000, 1)\n"
     ]
    }
   ],
   "source": [
    "# Check the input shape\n",
    "print(\"X1.shape: \", X1.shape)\n",
    "print(\"X2.shape: \", X2.shape)\n",
    "print(\"y.shape: \", y.shape)\n",
    "print(\"W.shape: \", W.shape)"
   ]
  },
  {
   "cell_type": "code",
   "execution_count": 34,
   "metadata": {},
   "outputs": [],
   "source": [
    "number_of_iterations = 30\n",
    "beta_factor = 50\n",
    "number_of_epochs = 150"
   ]
  },
  {
   "cell_type": "code",
   "execution_count": 41,
   "metadata": {},
   "outputs": [
    {
     "data": {
      "text/plain": [
       "<matplotlib.image.AxesImage at 0x7f43d03729b0>"
      ]
     },
     "execution_count": 41,
     "metadata": {},
     "output_type": "execute_result"
    },
    {
     "data": {
      "image/png": "[encoded data removed]",
      "text/plain": [
       "<matplotlib.figure.Figure at 0x7f43e96da6a0>"
      ]
     },
     "metadata": {},
     "output_type": "display_data"
    }
   ],
   "source": [
    "plt.imshow(dense_layer.get_weights()[0][:20])"
   ]
  },
  {
   "cell_type": "code",
   "execution_count": 35,
   "metadata": {
    "scrolled": true
   },
   "outputs": [
    {
     "name": "stdout",
     "output_type": "stream",
     "text": [
      "Iteration 1\n"
     ]
    },
    {
     "data": {
      "image/png": "[encoded data removed]",
      "text/plain": [
       "<matplotlib.figure.Figure at 0x7f43e97d3470>"
      ]
     },
     "metadata": {},
     "output_type": "display_data"
    },
    {
     "name": "stdout",
     "output_type": "stream",
     "text": [
      "Iteration 2\n"
     ]
    },
    {
     "data": {
      "image/png": "[encoded data removed]",
      "text/plain": [
       "<matplotlib.figure.Figure at 0x7f43e978e710>"
      ]
     },
     "metadata": {},
     "output_type": "display_data"
    },
    {
     "name": "stdout",
     "output_type": "stream",
     "text": [
      "Iteration 3\n"
     ]
    },
    {
     "data": {
      "image/png": "[encoded data removed]",
      "text/plain": [
       "<matplotlib.figure.Figure at 0x7f43e978e6a0>"
      ]
     },
     "metadata": {},
     "output_type": "display_data"
    },
    {
     "name": "stdout",
     "output_type": "stream",
     "text": [
      "Iteration 4\n"
     ]
    },
    {
     "data": {
      "image/png": "[encoded data removed]",
      "text/plain": [
       "<matplotlib.figure.Figure at 0x7f43e972a128>"
      ]
     },
     "metadata": {},
     "output_type": "display_data"
    },
    {
     "name": "stdout",
     "output_type": "stream",
     "text": [
      "Iteration 5\n"
     ]
    },
    {
     "data": {
      "image/png": "[encoded data removed]",
      "text/plain": [
       "<matplotlib.figure.Figure at 0x7f43e972af98>"
      ]
     },
     "metadata": {},
     "output_type": "display_data"
    },
    {
     "name": "stdout",
     "output_type": "stream",
     "text": [
      "Iteration 6\n"
     ]
    },
    {
     "data": {
      "image/png": "[encoded data removed]",
      "text/plain": [
       "<matplotlib.figure.Figure at 0x7f43e9654588>"
      ]
     },
     "metadata": {},
     "output_type": "display_data"
    },
    {
     "name": "stdout",
     "output_type": "stream",
     "text": [
      "Iteration 7\n"
     ]
    },
    {
     "data": {
      "image/png": "[encoded data removed]",
      "text/plain": [
       "<matplotlib.figure.Figure at 0x7f43e9654e80>"
      ]
     },
     "metadata": {},
     "output_type": "display_data"
    },
    {
     "name": "stdout",
     "output_type": "stream",
     "text": [
      "Iteration 8\n"
     ]
    },
    {
     "data": {
      "image/png": "[encoded data removed]",
      "text/plain": [
       "<matplotlib.figure.Figure at 0x7f43e83ef6d8>"
      ]
     },
     "metadata": {},
     "output_type": "display_data"
    },
    {
     "name": "stdout",
     "output_type": "stream",
     "text": [
      "Iteration 9\n"
     ]
    },
    {
     "data": {
      "image/png": "[encoded data removed]",
      "text/plain": [
       "<matplotlib.figure.Figure at 0x7f43e835d668>"
      ]
     },
     "metadata": {},
     "output_type": "display_data"
    },
    {
     "name": "stdout",
     "output_type": "stream",
     "text": [
      "Iteration 10\n"
     ]
    },
    {
     "data": {
      "image/png": "[encoded data removed]",
      "text/plain": [
       "<matplotlib.figure.Figure at 0x7f43e831b860>"
      ]
     },
     "metadata": {},
     "output_type": "display_data"
    },
    {
     "name": "stdout",
     "output_type": "stream",
     "text": [
      "Iteration 11\n"
     ]
    },
    {
     "data": {
      "image/png": "[encoded data removed]",
      "text/plain": [
       "<matplotlib.figure.Figure at 0x7f43e82fc4e0>"
      ]
     },
     "metadata": {},
     "output_type": "display_data"
    },
    {
     "name": "stdout",
     "output_type": "stream",
     "text": [
      "Iteration 12\n"
     ]
    },
    {
     "data": {
      "image/png": "[encoded data removed]",
      "text/plain": [
       "<matplotlib.figure.Figure at 0x7f43e824f470>"
      ]
     },
     "metadata": {},
     "output_type": "display_data"
    },
    {
     "name": "stdout",
     "output_type": "stream",
     "text": [
      "Iteration 13\n"
     ]
    },
    {
     "data": {
      "image/png": "[encoded data removed]",
      "text/plain": [
       "<matplotlib.figure.Figure at 0x7f442851eb00>"
      ]
     },
     "metadata": {},
     "output_type": "display_data"
    },
    {
     "name": "stdout",
     "output_type": "stream",
     "text": [
      "Iteration 14\n"
     ]
    },
    {
     "data": {
      "image/png": "[encoded data removed]",
      "text/plain": [
       "<matplotlib.figure.Figure at 0x7f4422724320>"
      ]
     },
     "metadata": {},
     "output_type": "display_data"
    },
    {
     "name": "stdout",
     "output_type": "stream",
     "text": [
      "Iteration 15\n"
     ]
    },
    {
     "data": {
      "image/png": "[encoded data removed]",
      "text/plain": [
       "<matplotlib.figure.Figure at 0x7f4422724358>"
      ]
     },
     "metadata": {},
     "output_type": "display_data"
    },
    {
     "name": "stdout",
     "output_type": "stream",
     "text": [
      "Iteration 16\n"
     ]
    },
    {
     "data": {
      "image/png": "[encoded data removed]",
      "text/plain": [
       "<matplotlib.figure.Figure at 0x7f4428a9b160>"
      ]
     },
     "metadata": {},
     "output_type": "display_data"
    },
    {
     "name": "stdout",
     "output_type": "stream",
     "text": [
      "Iteration 17\n"
     ]
    },
    {
     "data": {
      "image/png": "[encoded data removed]",
      "text/plain": [
       "<matplotlib.figure.Figure at 0x7f4428ac3f98>"
      ]
     },
     "metadata": {},
     "output_type": "display_data"
    },
    {
     "name": "stdout",
     "output_type": "stream",
     "text": [
      "Iteration 18\n"
     ]
    },
    {
     "data": {
      "image/png": "[encoded data removed]",
      "text/plain": [
       "<matplotlib.figure.Figure at 0x7f4428a68d30>"
      ]
     },
     "metadata": {},
     "output_type": "display_data"
    },
    {
     "name": "stdout",
     "output_type": "stream",
     "text": [
      "Iteration 19\n"
     ]
    },
    {
     "data": {
      "image/png": "[encoded data removed]",
      "text/plain": [
       "<matplotlib.figure.Figure at 0x7f43d03cd588>"
      ]
     },
     "metadata": {},
     "output_type": "display_data"
    },
    {
     "name": "stdout",
     "output_type": "stream",
     "text": [
      "Iteration 20\n"
     ]
    },
    {
     "data": {
      "image/png": "[encoded data removed]",
      "text/plain": [
       "<matplotlib.figure.Figure at 0x7f43d03d7860>"
      ]
     },
     "metadata": {},
     "output_type": "display_data"
    },
    {
     "name": "stdout",
     "output_type": "stream",
     "text": [
      "Iteration 21\n"
     ]
    },
    {
     "data": {
      "image/png": "[encoded data removed]",
      "text/plain": [
       "<matplotlib.figure.Figure at 0x7f43d039e4e0>"
      ]
     },
     "metadata": {},
     "output_type": "display_data"
    },
    {
     "name": "stdout",
     "output_type": "stream",
     "text": [
      "Iteration 22\n"
     ]
    },
    {
     "data": {
      "image/png": "[encoded data removed]",
      "text/plain": [
       "<matplotlib.figure.Figure at 0x7f4422788470>"
      ]
     },
     "metadata": {},
     "output_type": "display_data"
    },
    {
     "name": "stdout",
     "output_type": "stream",
     "text": [
      "Iteration 23\n"
     ]
    },
    {
     "data": {
      "image/png": "[encoded data removed]",
      "text/plain": [
       "<matplotlib.figure.Figure at 0x7f43e82e1be0>"
      ]
     },
     "metadata": {},
     "output_type": "display_data"
    },
    {
     "name": "stdout",
     "output_type": "stream",
     "text": [
      "Iteration 24\n"
     ]
    },
    {
     "data": {
      "image/png": "[encoded data removed]",
      "text/plain": [
       "<matplotlib.figure.Figure at 0x7f43e8376160>"
      ]
     },
     "metadata": {},
     "output_type": "display_data"
    },
    {
     "name": "stdout",
     "output_type": "stream",
     "text": [
      "Iteration 25\n"
     ]
    },
    {
     "data": {
      "image/png": "[encoded data removed]",
      "text/plain": [
       "<matplotlib.figure.Figure at 0x7f43e832e240>"
      ]
     },
     "metadata": {},
     "output_type": "display_data"
    },
    {
     "name": "stdout",
     "output_type": "stream",
     "text": [
      "Iteration 26\n"
     ]
    },
    {
     "data": {
      "image/png": "[encoded data removed]",
      "text/plain": [
       "<matplotlib.figure.Figure at 0x7f43e96e9550>"
      ]
     },
     "metadata": {},
     "output_type": "display_data"
    },
    {
     "name": "stdout",
     "output_type": "stream",
     "text": [
      "Iteration 27\n"
     ]
    },
    {
     "data": {
      "image/png": "[encoded data removed]",
      "text/plain": [
       "<matplotlib.figure.Figure at 0x7f43e96ba860>"
      ]
     },
     "metadata": {},
     "output_type": "display_data"
    },
    {
     "name": "stdout",
     "output_type": "stream",
     "text": [
      "Iteration 28\n"
     ]
    },
    {
     "data": {
      "image/png": "[encoded data removed]",
      "text/plain": [
       "<matplotlib.figure.Figure at 0x7f43e96baef0>"
      ]
     },
     "metadata": {},
     "output_type": "display_data"
    },
    {
     "name": "stdout",
     "output_type": "stream",
     "text": [
      "Iteration 29\n"
     ]
    },
    {
     "data": {
      "image/png": "[encoded data removed]",
      "text/plain": [
       "<matplotlib.figure.Figure at 0x7f43e9766550>"
      ]
     },
     "metadata": {},
     "output_type": "display_data"
    },
    {
     "name": "stdout",
     "output_type": "stream",
     "text": [
      "Iteration 30\n"
     ]
    },
    {
     "data": {
      "image/png": "[encoded data removed]",
      "text/plain": [
       "<matplotlib.figure.Figure at 0x7f43d0316828>"
      ]
     },
     "metadata": {},
     "output_type": "display_data"
    }
   ],
   "source": [
    "for m in range(1, number_of_iterations+1):\n",
    "    print(\"Iteration {:}\".format(m))\n",
    "    \n",
    "    # Train a model with 4 inputs and 1 dummy output.\n",
    "    model.fit({'image_1': X1, 'image_2': X2, 'similarity': y, 'weight': W}, [y], verbose=False, epochs=number_of_epochs)\n",
    "    beta *= beta_factor\n",
    "    \n",
    "    # Test output\n",
    "    # Get sample output\n",
    "    representation_model = Model(image_a, encoded_a)\n",
    "    pred_X1 = representation_model.predict(X1)\n",
    "    plt.imshow(pred_X1[:10])\n",
    "    plt.show()"
   ]
  },
  {
   "cell_type": "code",
   "execution_count": 33,
   "metadata": {},
   "outputs": [
    {
     "data": {
      "text/plain": [
       "<matplotlib.image.AxesImage at 0x7f43e97c1dd8>"
      ]
     },
     "execution_count": 33,
     "metadata": {},
     "output_type": "execute_result"
    },
    {
     "data": {
      "image/png": "[encoded data removed]",
      "text/plain": [
       "<matplotlib.figure.Figure at 0x7f44206ad630>"
      ]
     },
     "metadata": {},
     "output_type": "display_data"
    }
   ],
   "source": [
    "plt.imshow(dense_layer.get_weights()[0][:10])"
   ]
  },
  {
   "cell_type": "markdown",
   "metadata": {},
   "source": [
    "## Visualize Performance "
   ]
  },
  {
   "cell_type": "markdown",
   "metadata": {},
   "source": [
    "__Obtain a representation model__\n",
    "\n",
    "This representation model is the same as the trained model above without the loss layer at the very end."
   ]
  },
  {
   "cell_type": "code",
   "execution_count": 28,
   "metadata": {},
   "outputs": [],
   "source": [
    "representation_model = Model(image_a, encoded_a)"
   ]
  },
  {
   "cell_type": "code",
   "execution_count": 38,
   "metadata": {},
   "outputs": [
    {
     "data": {
      "text/plain": [
       "<matplotlib.image.AxesImage at 0x7f43d017ed68>"
      ]
     },
     "execution_count": 38,
     "metadata": {},
     "output_type": "execute_result"
    },
    {
     "data": {
      "image/png": "[encoded data removed]",
      "text/plain": [
       "<matplotlib.figure.Figure at 0x7f43d0208048>"
      ]
     },
     "metadata": {},
     "output_type": "display_data"
    }
   ],
   "source": [
    "# Get sample output\n",
    "pred_X1 = representation_model.predict(X1)\n",
    "plt.imshow(pred_X1[:30] > 0)"
   ]
  },
  {
   "cell_type": "code",
   "execution_count": null,
   "metadata": {},
   "outputs": [],
   "source": []
  },
  {
   "cell_type": "code",
   "execution_count": null,
   "metadata": {},
   "outputs": [],
   "source": []
  },
  {
   "cell_type": "code",
   "execution_count": null,
   "metadata": {},
   "outputs": [],
   "source": []
  },
  {
   "cell_type": "markdown",
   "metadata": {},
   "source": [
    "# Notes"
   ]
  },
  {
   "cell_type": "code",
   "execution_count": 32,
   "metadata": {},
   "outputs": [],
   "source": [
    "# Notes:\n",
    "# https://github.com/keras-team/keras/blob/master/examples/variational_autoencoder.py\n",
    "#https://github.com/keras-team/keras/issues/7379"
   ]
  }
 ],
 "metadata": {
  "kernelspec": {
   "display_name": "Python 3",
   "language": "python",
   "name": "python3"
  },
  "language_info": {
   "codemirror_mode": {
    "name": "ipython",
    "version": 3
   },
   "file_extension": ".py",
   "mimetype": "text/x-python",
   "name": "python",
   "nbconvert_exporter": "python",
   "pygments_lexer": "ipython3",
   "version": "3.6.4"
  }
 },
 "nbformat": 4,
 "nbformat_minor": 2
}
