{
 "cells": [
  {
   "cell_type": "markdown",
   "metadata": {},
   "source": [
    "# Known-Artist Live Song ID: A Hashprint Approach\n",
    "\n",
    "This notebook is a python implementation of the [original matlab version] (http://pages.hmc.edu/ttsai/assets/livesongid.tar.gz). The pipeline consists of the following modules:\n",
    "\n",
    "1. Preprocessing with Constant-Q Transform (CQT)\n",
    "2. Learning PCA filters\n",
    "3. Obtaining hashprint representation by applying PCA filters to preprocessed CQT matrix\n",
    "4. Generating database with the hashprint of pitch-shifted CQT matrix of reference tracks\n",
    "5. Matching query against database"
   ]
  },
  {
   "cell_type": "code",
   "execution_count": 1,
   "metadata": {
    "ExecuteTime": {
     "end_time": "2018-02-09T07:49:12.354766Z",
     "start_time": "2018-02-09T07:49:12.346421Z"
    }
   },
   "outputs": [
    {
     "name": "stdout",
     "output_type": "stream",
     "text": [
      "/home/mjenrungrot/fast.ai/live-song-id\n"
     ]
    }
   ],
   "source": [
    "GIT_DIR = '/home/mjenrungrot/workspace/live-song-id/'\n",
    "%cd $GIT_DIR"
   ]
  },
  {
   "cell_type": "markdown",
   "metadata": {},
   "source": [
    "## Data Preprocessing\n",
    "\n",
    "For a given artist, we first preprocess the list of reference tracks by taking CQT transform for each audio file."
   ]
  },
  {
   "cell_type": "code",
   "execution_count": 2,
   "metadata": {
    "ExecuteTime": {
     "end_time": "2018-02-09T07:49:12.824872Z",
     "start_time": "2018-02-09T07:49:12.357568Z"
    },
    "collapsed": true
   },
   "outputs": [],
   "source": [
    "from preprocess import *\n",
    "import os\n",
    "from utils import *"
   ]
  },
  {
   "cell_type": "code",
   "execution_count": 3,
   "metadata": {
    "ExecuteTime": {
     "end_time": "2018-02-09T07:49:12.831389Z",
     "start_time": "2018-02-09T07:49:12.826408Z"
    },
    "collapsed": true
   },
   "outputs": [],
   "source": [
    "# audio_path - where audio files are stored\n",
    "# list_dir - where list of softlinks are stored\n",
    "# cqt_dir - where results will be stored\n",
    "audio_path = '/home/mjenrungrot/SoftLinks/' # change this\n",
    "list_dir = audio_path + '/Lists/'\n",
    "cqt_dir = '/home/mjenrungrot/ttmp/livesong_results/' # change this\n",
    "artist = 'taylorswift'\n",
    "out_dir = os.path.join(cqt_dir, artist+'_out')\n",
    "file_paths = get_allpaths(artist, list_dir)"
   ]
  },
  {
   "cell_type": "code",
   "execution_count": 4,
   "metadata": {
    "ExecuteTime": {
     "end_time": "2018-02-07T07:57:29.917108Z",
     "start_time": "2018-02-07T07:41:31.282369Z"
    },
    "deletable": false,
    "editable": false,
    "run_control": {
     "frozen": true
    }
   },
   "outputs": [
    {
     "name": "stdout",
     "output_type": "stream",
     "text": [
      "/data1/mjenrungrot/livesong_results\n",
      "mkdir: cannot create directory ‘/home/mjenrungrot/ttmp/livesong_results/taylorswift_out’: File exists\n",
      "/data1/mjenrungrot/livesong_results/taylorswift_out\n",
      "==> Computing CQT of taylorswift_ref1\n"
     ]
    },
    {
     "name": "stderr",
     "output_type": "stream",
     "text": [
      "/home/mjenrungrot/anaconda3/lib/python3.6/site-packages/librosa/util/utils.py:1725: FutureWarning: Conversion of the second argument of issubdtype from `float` to `np.floating` is deprecated. In future, it will be treated as `np.float64 == np.dtype(float).type`.\n",
      "  if np.issubdtype(x.dtype, float) or np.issubdtype(x.dtype, complex):\n",
      "/home/mjenrungrot/anaconda3/lib/python3.6/site-packages/librosa/util/utils.py:1725: FutureWarning: Conversion of the second argument of issubdtype from `complex` to `np.complexfloating` is deprecated. In future, it will be treated as `np.complex128 == np.dtype(complex).type`.\n",
      "  if np.issubdtype(x.dtype, float) or np.issubdtype(x.dtype, complex):\n"
     ]
    },
    {
     "name": "stdout",
     "output_type": "stream",
     "text": [
      "==> Computing CQT of taylorswift_ref2\n"
     ]
    },
    {
     "name": "stderr",
     "output_type": "stream",
     "text": [
      "/home/mjenrungrot/anaconda3/lib/python3.6/site-packages/librosa/util/utils.py:1725: FutureWarning: Conversion of the second argument of issubdtype from `float` to `np.floating` is deprecated. In future, it will be treated as `np.float64 == np.dtype(float).type`.\n",
      "  if np.issubdtype(x.dtype, float) or np.issubdtype(x.dtype, complex):\n",
      "/home/mjenrungrot/anaconda3/lib/python3.6/site-packages/librosa/util/utils.py:1725: FutureWarning: Conversion of the second argument of issubdtype from `complex` to `np.complexfloating` is deprecated. In future, it will be treated as `np.complex128 == np.dtype(complex).type`.\n",
      "  if np.issubdtype(x.dtype, float) or np.issubdtype(x.dtype, complex):\n"
     ]
    },
    {
     "name": "stdout",
     "output_type": "stream",
     "text": [
      "==> Computing CQT of taylorswift_ref3\n",
      "==> Computing CQT of taylorswift_ref4\n",
      "==> Computing CQT of taylorswift_ref5\n",
      "==> Computing CQT of taylorswift_ref6\n",
      "==> Computing CQT of taylorswift_ref7\n",
      "==> Computing CQT of taylorswift_ref8\n",
      "==> Computing CQT of taylorswift_ref9\n",
      "==> Computing CQT of taylorswift_ref10\n",
      "==> Computing CQT of taylorswift_ref11\n",
      "==> Computing CQT of taylorswift_ref12\n",
      "==> Computing CQT of taylorswift_ref13\n",
      "==> Computing CQT of taylorswift_ref14\n",
      "==> Computing CQT of taylorswift_ref15\n",
      "==> Computing CQT of taylorswift_ref16\n",
      "==> Computing CQT of taylorswift_ref17\n",
      "==> Computing CQT of taylorswift_ref18\n",
      "==> Computing CQT of taylorswift_ref19\n",
      "==> Computing CQT of taylorswift_ref20\n",
      "==> Computing CQT of taylorswift_ref21\n",
      "==> Computing CQT of taylorswift_ref22\n",
      "==> Computing CQT of taylorswift_ref23\n",
      "==> Computing CQT of taylorswift_ref24\n",
      "==> Computing CQT of taylorswift_ref25\n",
      "==> Computing CQT of taylorswift_ref26\n",
      "==> Computing CQT of taylorswift_ref27\n",
      "==> Computing CQT of taylorswift_ref28\n",
      "==> Computing CQT of taylorswift_ref29\n",
      "==> Computing CQT of taylorswift_ref30\n",
      "==> Computing CQT of taylorswift_ref31\n",
      "==> Computing CQT of taylorswift_ref32\n",
      "==> Computing CQT of taylorswift_ref33\n",
      "==> Computing CQT of taylorswift_ref34\n",
      "==> Computing CQT of taylorswift_ref35\n",
      "==> Computing CQT of taylorswift_ref36\n",
      "==> Computing CQT of taylorswift_ref37\n",
      "==> Computing CQT of taylorswift_ref38\n",
      "==> Computing CQT of taylorswift_ref39\n",
      "==> Computing CQT of taylorswift_ref40\n",
      "==> Computing CQT of taylorswift_ref41\n",
      "==> Computing CQT of taylorswift_ref42\n",
      "==> Computing CQT of taylorswift_ref43\n",
      "==> Computing CQT of taylorswift_ref44\n",
      "==> Computing CQT of taylorswift_ref45\n",
      "==> Computing CQT of taylorswift_ref46\n",
      "==> Computing CQT of taylorswift_ref47\n",
      "==> Computing CQT of taylorswift_ref48\n",
      "==> Computing CQT of taylorswift_ref49\n",
      "==> Computing CQT of taylorswift_ref50\n",
      "==> Computing CQT of taylorswift_ref51\n",
      "==> Computing CQT of taylorswift_ref52\n",
      "==> Computing CQT of taylorswift_ref53\n",
      "==> Computing CQT of taylorswift_ref54\n",
      "==> Computing CQT of taylorswift_ref55\n",
      "==> Computing CQT of taylorswift_ref56\n",
      "==> Computing CQT of taylorswift_ref57\n",
      "==> Computing CQT of taylorswift_ref58\n",
      "==> Computing CQT of taylorswift_ref59\n",
      "==> Computing CQT of taylorswift_ref60\n",
      "==> Computing CQT of taylorswift_ref61\n",
      "==> Computing CQT of taylorswift_ref62\n",
      "==> Computing CQT of taylorswift_ref63\n",
      "==> Computing CQT of taylorswift_ref64\n",
      "==> Computing CQT of taylorswift_ref65\n",
      "==> Computing CQT of taylorswift_ref66\n",
      "==> Computing CQT of taylorswift_ref67\n",
      "==> Computing CQT of taylorswift_ref68\n",
      "==> Computing CQT of taylorswift_ref69\n",
      "==> Computing CQT of taylorswift_ref70\n",
      "==> Computing CQT of taylorswift_ref71\n"
     ]
    }
   ],
   "source": [
    "%cd $cqt_dir\n",
    "%mkdir $out_dir\n",
    "%cd $out_dir\n",
    "\n",
    "f = open(os.path.join(out_dir, artist + '_cqtList.txt'), 'w')\n",
    "for cur_file in file_paths:\n",
    "    print('==> Computing CQT of %s'%cur_file)\n",
    "    y, sr = librosa.load(audio_path + cur_file + '.wav')\n",
    "    Q = librosa.cqt(y, sr=sr, fmin=130.81, n_bins=121, bins_per_octave=24, hop_length=96)\n",
    "    logQ = preprocess(Q, 3)\n",
    "    cur_file_path = os.path.join(os.getcwd(), cur_file + '.dat')\n",
    "    np.savetxt(cur_file_path, logQ)\n",
    "    f.write(cur_file_path + '\\n')\n",
    "f.close()\n"
   ]
  },
  {
   "cell_type": "markdown",
   "metadata": {},
   "source": [
    "## Learning PCA Filters"
   ]
  },
  {
   "cell_type": "code",
   "execution_count": 5,
   "metadata": {
    "ExecuteTime": {
     "end_time": "2018-02-09T07:49:12.839055Z",
     "start_time": "2018-02-09T07:49:12.833573Z"
    }
   },
   "outputs": [
    {
     "name": "stdout",
     "output_type": "stream",
     "text": [
      "/home/mjenrungrot/fast.ai/live-song-id\n"
     ]
    }
   ],
   "source": [
    "%cd $GIT_DIR\n",
    "from PCA import *"
   ]
  },
  {
   "cell_type": "markdown",
   "metadata": {},
   "source": [
    "Next, we generate the filters for the hashprint representation by taking PCA on the covariance matrix for all reference songs for this artist. First, we compute the covariance matrix:"
   ]
  },
  {
   "cell_type": "code",
   "execution_count": 6,
   "metadata": {
    "ExecuteTime": {
     "end_time": "2018-02-09T07:49:12.845200Z",
     "start_time": "2018-02-09T07:49:12.841391Z"
    },
    "collapsed": true
   },
   "outputs": [],
   "source": [
    "num_features = 64\n",
    "nbins = 121\n",
    "m = 20 # number of frames"
   ]
  },
  {
   "cell_type": "code",
   "execution_count": 7,
   "metadata": {
    "ExecuteTime": {
     "end_time": "2018-02-07T08:11:10.811072Z",
     "start_time": "2018-02-07T08:09:44.286845Z"
    },
    "deletable": false,
    "run_control": {
     "frozen": true
    }
   },
   "outputs": [
    {
     "name": "stdout",
     "output_type": "stream",
     "text": [
      "==> Computing covariance matrix for taylorswift_ref1.dat\n",
      "==> Computing covariance matrix for taylorswift_ref2.dat\n",
      "==> Computing covariance matrix for taylorswift_ref3.dat\n",
      "==> Computing covariance matrix for taylorswift_ref4.dat\n",
      "==> Computing covariance matrix for taylorswift_ref5.dat\n",
      "==> Computing covariance matrix for taylorswift_ref6.dat\n",
      "==> Computing covariance matrix for taylorswift_ref7.dat\n",
      "==> Computing covariance matrix for taylorswift_ref8.dat\n",
      "==> Computing covariance matrix for taylorswift_ref9.dat\n",
      "==> Computing covariance matrix for taylorswift_ref10.dat\n",
      "==> Computing covariance matrix for taylorswift_ref11.dat\n",
      "==> Computing covariance matrix for taylorswift_ref12.dat\n",
      "==> Computing covariance matrix for taylorswift_ref13.dat\n",
      "==> Computing covariance matrix for taylorswift_ref14.dat\n",
      "==> Computing covariance matrix for taylorswift_ref15.dat\n",
      "==> Computing covariance matrix for taylorswift_ref16.dat\n",
      "==> Computing covariance matrix for taylorswift_ref17.dat\n",
      "==> Computing covariance matrix for taylorswift_ref18.dat\n",
      "==> Computing covariance matrix for taylorswift_ref19.dat\n",
      "==> Computing covariance matrix for taylorswift_ref20.dat\n",
      "==> Computing covariance matrix for taylorswift_ref21.dat\n",
      "==> Computing covariance matrix for taylorswift_ref22.dat\n",
      "==> Computing covariance matrix for taylorswift_ref23.dat\n",
      "==> Computing covariance matrix for taylorswift_ref24.dat\n",
      "==> Computing covariance matrix for taylorswift_ref25.dat\n",
      "==> Computing covariance matrix for taylorswift_ref26.dat\n",
      "==> Computing covariance matrix for taylorswift_ref27.dat\n",
      "==> Computing covariance matrix for taylorswift_ref28.dat\n",
      "==> Computing covariance matrix for taylorswift_ref29.dat\n",
      "==> Computing covariance matrix for taylorswift_ref30.dat\n",
      "==> Computing covariance matrix for taylorswift_ref31.dat\n",
      "==> Computing covariance matrix for taylorswift_ref32.dat\n",
      "==> Computing covariance matrix for taylorswift_ref33.dat\n",
      "==> Computing covariance matrix for taylorswift_ref34.dat\n",
      "==> Computing covariance matrix for taylorswift_ref35.dat\n",
      "==> Computing covariance matrix for taylorswift_ref36.dat\n",
      "==> Computing covariance matrix for taylorswift_ref37.dat\n",
      "==> Computing covariance matrix for taylorswift_ref38.dat\n",
      "==> Computing covariance matrix for taylorswift_ref39.dat\n",
      "==> Computing covariance matrix for taylorswift_ref40.dat\n",
      "==> Computing covariance matrix for taylorswift_ref41.dat\n",
      "==> Computing covariance matrix for taylorswift_ref42.dat\n",
      "==> Computing covariance matrix for taylorswift_ref43.dat\n",
      "==> Computing covariance matrix for taylorswift_ref44.dat\n",
      "==> Computing covariance matrix for taylorswift_ref45.dat\n",
      "==> Computing covariance matrix for taylorswift_ref46.dat\n",
      "==> Computing covariance matrix for taylorswift_ref47.dat\n",
      "==> Computing covariance matrix for taylorswift_ref48.dat\n",
      "==> Computing covariance matrix for taylorswift_ref49.dat\n",
      "==> Computing covariance matrix for taylorswift_ref50.dat\n",
      "==> Computing covariance matrix for taylorswift_ref51.dat\n",
      "==> Computing covariance matrix for taylorswift_ref52.dat\n",
      "==> Computing covariance matrix for taylorswift_ref53.dat\n",
      "==> Computing covariance matrix for taylorswift_ref54.dat\n",
      "==> Computing covariance matrix for taylorswift_ref55.dat\n",
      "==> Computing covariance matrix for taylorswift_ref56.dat\n",
      "==> Computing covariance matrix for taylorswift_ref57.dat\n",
      "==> Computing covariance matrix for taylorswift_ref58.dat\n",
      "==> Computing covariance matrix for taylorswift_ref59.dat\n",
      "==> Computing covariance matrix for taylorswift_ref60.dat\n",
      "==> Computing covariance matrix for taylorswift_ref61.dat\n",
      "==> Computing covariance matrix for taylorswift_ref62.dat\n",
      "==> Computing covariance matrix for taylorswift_ref63.dat\n",
      "==> Computing covariance matrix for taylorswift_ref64.dat\n",
      "==> Computing covariance matrix for taylorswift_ref65.dat\n",
      "==> Computing covariance matrix for taylorswift_ref66.dat\n",
      "==> Computing covariance matrix for taylorswift_ref67.dat\n",
      "==> Computing covariance matrix for taylorswift_ref68.dat\n",
      "==> Computing covariance matrix for taylorswift_ref69.dat\n",
      "==> Computing covariance matrix for taylorswift_ref70.dat\n",
      "==> Computing covariance matrix for taylorswift_ref71.dat\n"
     ]
    }
   ],
   "source": [
    "f = open(os.path.join(out_dir, artist + '_cqtList.txt'), 'r')\n",
    "accum_cov = np.zeros((nbins * m, nbins * m))\n",
    "count = 0\n",
    "\n",
    "for line in f:\n",
    "    print('==> Computing covariance matrix for %s'%os.path.basename(line)[:-1])\n",
    "    Q = np.loadtxt(line[:-1])\n",
    "    A = getTDE(Q)\n",
    "    #if A.shape[1] > 1:\n",
    "    accum_cov += np.cov(A.T)\n",
    "    count += 1\n",
    "\n",
    "f.close()"
   ]
  },
  {
   "cell_type": "markdown",
   "metadata": {},
   "source": [
    "Next, we compute PCA from these covariance matrices."
   ]
  },
  {
   "cell_type": "code",
   "execution_count": 8,
   "metadata": {
    "ExecuteTime": {
     "end_time": "2018-02-07T08:15:04.142290Z",
     "start_time": "2018-02-07T08:14:59.051592Z"
    },
    "collapsed": true,
    "deletable": false,
    "run_control": {
     "frozen": true
    }
   },
   "outputs": [],
   "source": [
    "import scipy.linalg\n",
    "evals, evecs = scipy.linalg.eig(accum_cov / count)\n",
    "evecs = evecs[:num_features]\n",
    "np.savetxt(os.path.join(out_dir, artist + '_model.dat'), evecs)"
   ]
  },
  {
   "cell_type": "markdown",
   "metadata": {},
   "source": [
    "## Applying Filters to CQT Matrix to generate the Database"
   ]
  },
  {
   "cell_type": "code",
   "execution_count": 9,
   "metadata": {
    "ExecuteTime": {
     "end_time": "2018-02-09T07:49:13.138354Z",
     "start_time": "2018-02-09T07:49:12.847672Z"
    },
    "collapsed": true
   },
   "outputs": [],
   "source": [
    "evecs = np.loadtxt(os.path.join(out_dir, artist + '_model.dat'))"
   ]
  },
  {
   "cell_type": "markdown",
   "metadata": {},
   "source": [
    "In order to stay consistency with the keras model, we transpose the filters and the CQT images to have shape ```(width, height)```."
   ]
  },
  {
   "cell_type": "code",
   "execution_count": 10,
   "metadata": {
    "ExecuteTime": {
     "end_time": "2018-02-09T07:49:15.283720Z",
     "start_time": "2018-02-09T07:49:13.140325Z"
    }
   },
   "outputs": [
    {
     "name": "stderr",
     "output_type": "stream",
     "text": [
      "/home/mjenrungrot/anaconda3/lib/python3.6/site-packages/h5py/__init__.py:34: FutureWarning: Conversion of the second argument of issubdtype from `float` to `np.floating` is deprecated. In future, it will be treated as `np.float64 == np.dtype(float).type`.\n",
      "  from ._conv import register_converters as _register_converters\n",
      "Using Theano backend.\n",
      "WARNING (theano.tensor.blas): Using NumPy C-API based implementation for BLAS functions.\n"
     ]
    }
   ],
   "source": [
    "pca_matrix = np.array([vec.reshape((m, -1)) for vec in evecs])\n",
    "delta = 16\n",
    "max_pitch_shift = 4\n",
    "from model import *"
   ]
  },
  {
   "cell_type": "markdown",
   "metadata": {},
   "source": [
    "For each reference track, we pitch shift the CQT matrix by four pitches, both up and down. For each pitch-shifted version, we compute the hashprint by first passing it through the convolutional network, and then taking the delta feature and thresholding by zero.\n",
    "\n",
    "The database contains filenames as keys and the pitch-shifted delta features as values."
   ]
  },
  {
   "cell_type": "code",
   "execution_count": 11,
   "metadata": {
    "ExecuteTime": {
     "end_time": "2018-02-07T09:10:01.359591Z",
     "start_time": "2018-02-07T09:09:21.358407Z"
    },
    "deletable": false,
    "editable": false,
    "run_control": {
     "frozen": true
    }
   },
   "outputs": [
    {
     "name": "stdout",
     "output_type": "stream",
     "text": [
      "==> Generating database for taylorswift_ref1.dat\n",
      "==> Generating database for taylorswift_ref2.dat\n",
      "==> Generating database for taylorswift_ref3.dat\n",
      "==> Generating database for taylorswift_ref4.dat\n",
      "==> Generating database for taylorswift_ref5.dat\n",
      "==> Generating database for taylorswift_ref6.dat\n",
      "==> Generating database for taylorswift_ref7.dat\n",
      "==> Generating database for taylorswift_ref8.dat\n",
      "==> Generating database for taylorswift_ref9.dat\n",
      "==> Generating database for taylorswift_ref10.dat\n",
      "==> Generating database for taylorswift_ref11.dat\n",
      "==> Generating database for taylorswift_ref12.dat\n",
      "==> Generating database for taylorswift_ref13.dat\n",
      "==> Generating database for taylorswift_ref14.dat\n",
      "==> Generating database for taylorswift_ref15.dat\n",
      "==> Generating database for taylorswift_ref16.dat\n",
      "==> Generating database for taylorswift_ref17.dat\n",
      "==> Generating database for taylorswift_ref18.dat\n",
      "==> Generating database for taylorswift_ref19.dat\n",
      "==> Generating database for taylorswift_ref20.dat\n",
      "==> Generating database for taylorswift_ref21.dat\n",
      "==> Generating database for taylorswift_ref22.dat\n",
      "==> Generating database for taylorswift_ref23.dat\n",
      "==> Generating database for taylorswift_ref24.dat\n",
      "==> Generating database for taylorswift_ref25.dat\n",
      "==> Generating database for taylorswift_ref26.dat\n",
      "==> Generating database for taylorswift_ref27.dat\n",
      "==> Generating database for taylorswift_ref28.dat\n",
      "==> Generating database for taylorswift_ref29.dat\n",
      "==> Generating database for taylorswift_ref30.dat\n",
      "==> Generating database for taylorswift_ref31.dat\n",
      "==> Generating database for taylorswift_ref32.dat\n",
      "==> Generating database for taylorswift_ref33.dat\n",
      "==> Generating database for taylorswift_ref34.dat\n",
      "==> Generating database for taylorswift_ref35.dat\n",
      "==> Generating database for taylorswift_ref36.dat\n",
      "==> Generating database for taylorswift_ref37.dat\n",
      "==> Generating database for taylorswift_ref38.dat\n",
      "==> Generating database for taylorswift_ref39.dat\n",
      "==> Generating database for taylorswift_ref40.dat\n",
      "==> Generating database for taylorswift_ref41.dat\n",
      "==> Generating database for taylorswift_ref42.dat\n",
      "==> Generating database for taylorswift_ref43.dat\n",
      "==> Generating database for taylorswift_ref44.dat\n",
      "==> Generating database for taylorswift_ref45.dat\n",
      "==> Generating database for taylorswift_ref46.dat\n",
      "==> Generating database for taylorswift_ref47.dat\n",
      "==> Generating database for taylorswift_ref48.dat\n",
      "==> Generating database for taylorswift_ref49.dat\n",
      "==> Generating database for taylorswift_ref50.dat\n",
      "==> Generating database for taylorswift_ref51.dat\n",
      "==> Generating database for taylorswift_ref52.dat\n",
      "==> Generating database for taylorswift_ref53.dat\n",
      "==> Generating database for taylorswift_ref54.dat\n",
      "==> Generating database for taylorswift_ref55.dat\n",
      "==> Generating database for taylorswift_ref56.dat\n",
      "==> Generating database for taylorswift_ref57.dat\n",
      "==> Generating database for taylorswift_ref58.dat\n",
      "==> Generating database for taylorswift_ref59.dat\n",
      "==> Generating database for taylorswift_ref60.dat\n",
      "==> Generating database for taylorswift_ref61.dat\n",
      "==> Generating database for taylorswift_ref62.dat\n",
      "==> Generating database for taylorswift_ref63.dat\n",
      "==> Generating database for taylorswift_ref64.dat\n",
      "==> Generating database for taylorswift_ref65.dat\n",
      "==> Generating database for taylorswift_ref66.dat\n",
      "==> Generating database for taylorswift_ref67.dat\n",
      "==> Generating database for taylorswift_ref68.dat\n",
      "==> Generating database for taylorswift_ref69.dat\n",
      "==> Generating database for taylorswift_ref70.dat\n",
      "==> Generating database for taylorswift_ref71.dat\n"
     ]
    }
   ],
   "source": [
    "f = open(os.path.join(out_dir, artist + '_cqtList.txt'), 'r')\n",
    "db = {}\n",
    "\n",
    "for line in f:\n",
    "    print('==> Generating database for %s'%os.path.basename(line)[:-1])\n",
    "    Q = np.loadtxt(line[:-1]).T\n",
    "    pitch_shift_Qs = np.empty((2 * max_pitch_shift + 1, ) + Q.shape)\n",
    "    pitch_shift_Qs[0, :, :] = Q\n",
    "    for i in range(1, max_pitch_shift + 1):\n",
    "        pitch_shift_Qs[i, :, :] = pitch_shift_CQT(Q.T, i).T\n",
    "    for i in range(1, max_pitch_shift + 1):\n",
    "        pitch_shift_Qs[i + max_pitch_shift, :, :] = pitch_shift_CQT(Q.T, -i).T\n",
    "    \n",
    "    conv_1d_net = build_model(pca_matrix, Q.shape, delta=delta)\n",
    "    \n",
    "    fpseqs = run_model(conv_1d_net, pitch_shift_Qs)\n",
    "    delta_fp = fpseqs[:, :, :fpseqs.shape[2] - delta] - fpseqs[:, :, delta:]\n",
    "    \n",
    "    db[os.path.basename(line)[:-1]] = np.where(delta_fp > 0, 1, 0)\n",
    "f.close()\n",
    "        "
   ]
  },
  {
   "cell_type": "markdown",
   "metadata": {},
   "source": [
    "After generating the database, we serialize it and save it to the disk."
   ]
  },
  {
   "cell_type": "code",
   "execution_count": 12,
   "metadata": {
    "ExecuteTime": {
     "end_time": "2018-02-09T07:49:15.289145Z",
     "start_time": "2018-02-09T07:49:15.285960Z"
    },
    "collapsed": true
   },
   "outputs": [],
   "source": [
    "import pickle\n",
    "db_path = os.path.join(out_dir, artist + '_db.pickle')"
   ]
  },
  {
   "cell_type": "code",
   "execution_count": 13,
   "metadata": {
    "ExecuteTime": {
     "end_time": "2018-02-07T09:12:18.842966Z",
     "start_time": "2018-02-07T09:12:17.211091Z"
    },
    "collapsed": true,
    "deletable": false,
    "editable": false,
    "run_control": {
     "frozen": true
    }
   },
   "outputs": [],
   "source": [
    "with open(db_path, 'wb') as handle:\n",
    "    pickle.dump(db, handle, pickle.HIGHEST_PROTOCOL)"
   ]
  },
  {
   "cell_type": "markdown",
   "metadata": {},
   "source": [
    "## Matching Query Against Database"
   ]
  },
  {
   "cell_type": "markdown",
   "metadata": {
    "collapsed": true
   },
   "source": [
    "First, we load the database from disk:"
   ]
  },
  {
   "cell_type": "code",
   "execution_count": 14,
   "metadata": {
    "ExecuteTime": {
     "end_time": "2018-02-09T07:49:16.066720Z",
     "start_time": "2018-02-09T07:49:15.291312Z"
    },
    "collapsed": true
   },
   "outputs": [],
   "source": [
    "from search import *\n",
    "db = {}\n",
    "with open(db_path, 'rb') as handle:\n",
    "    db = pickle.load(handle)"
   ]
  },
  {
   "cell_type": "markdown",
   "metadata": {},
   "source": [
    "We preprocess the query by applying the PCA filters."
   ]
  },
  {
   "cell_type": "code",
   "execution_count": 15,
   "metadata": {
    "ExecuteTime": {
     "end_time": "2018-02-09T07:49:25.653205Z",
     "start_time": "2018-02-09T07:49:16.068518Z"
    },
    "scrolled": true
   },
   "outputs": [
    {
     "name": "stderr",
     "output_type": "stream",
     "text": [
      "/home/mjenrungrot/anaconda3/lib/python3.6/site-packages/librosa/util/utils.py:1725: FutureWarning: Conversion of the second argument of issubdtype from `float` to `np.floating` is deprecated. In future, it will be treated as `np.float64 == np.dtype(float).type`.\n",
      "  if np.issubdtype(x.dtype, float) or np.issubdtype(x.dtype, complex):\n",
      "/home/mjenrungrot/anaconda3/lib/python3.6/site-packages/librosa/util/utils.py:1725: FutureWarning: Conversion of the second argument of issubdtype from `complex` to `np.complexfloating` is deprecated. In future, it will be treated as `np.complex128 == np.dtype(complex).type`.\n",
      "  if np.issubdtype(x.dtype, float) or np.issubdtype(x.dtype, complex):\n"
     ]
    },
    {
     "name": "stdout",
     "output_type": "stream",
     "text": [
      "==> Computing CQT of taylorswift_query1\n",
      "==> Computing CQT of taylorswift_query2\n",
      "==> Computing CQT of taylorswift_query3\n",
      "==> Computing CQT of taylorswift_query4\n",
      "==> Computing CQT of taylorswift_query5\n",
      "==> Computing CQT of taylorswift_query6\n",
      "==> Computing CQT of taylorswift_query7\n",
      "==> Computing CQT of taylorswift_query8\n",
      "==> Computing CQT of taylorswift_query9\n",
      "==> Computing CQT of taylorswift_query10\n",
      "==> Computing CQT of taylorswift_query11\n",
      "==> Computing CQT of taylorswift_query12\n",
      "==> Computing CQT of taylorswift_query13\n",
      "==> Computing CQT of taylorswift_query14\n",
      "==> Computing CQT of taylorswift_query15\n",
      "==> Computing CQT of taylorswift_query16\n",
      "==> Computing CQT of taylorswift_query17\n",
      "==> Computing CQT of taylorswift_query18\n",
      "==> Computing CQT of taylorswift_query19\n",
      "==> Computing CQT of taylorswift_query20\n",
      "==> Computing CQT of taylorswift_query21\n",
      "==> Computing CQT of taylorswift_query22\n",
      "==> Computing CQT of taylorswift_query23\n",
      "==> Computing CQT of taylorswift_query24\n",
      "==> Computing CQT of taylorswift_query25\n",
      "==> Computing CQT of taylorswift_query26\n",
      "==> Computing CQT of taylorswift_query27\n",
      "==> Computing CQT of taylorswift_query28\n",
      "==> Computing CQT of taylorswift_query29\n",
      "==> Computing CQT of taylorswift_query30\n",
      "==> Computing CQT of taylorswift_query31\n",
      "==> Computing CQT of taylorswift_query32\n",
      "==> Computing CQT of taylorswift_query33\n",
      "==> Computing CQT of taylorswift_query34\n",
      "==> Computing CQT of taylorswift_query35\n",
      "==> Computing CQT of taylorswift_query36\n",
      "==> Computing CQT of taylorswift_query37\n",
      "==> Computing CQT of taylorswift_query38\n",
      "==> Computing CQT of taylorswift_query39\n",
      "==> Computing CQT of taylorswift_query40\n",
      "==> Computing CQT of taylorswift_query41\n",
      "==> Computing CQT of taylorswift_query42\n",
      "==> Computing CQT of taylorswift_query43\n",
      "==> Computing CQT of taylorswift_query44\n",
      "==> Computing CQT of taylorswift_query45\n",
      "==> Computing CQT of taylorswift_query46\n",
      "==> Computing CQT of taylorswift_query47\n",
      "==> Computing CQT of taylorswift_query48\n",
      "==> Computing CQT of taylorswift_query49\n",
      "==> Computing CQT of taylorswift_query50\n",
      "==> Computing CQT of taylorswift_query51\n",
      "==> Computing CQT of taylorswift_query52\n",
      "==> Computing CQT of taylorswift_query53\n",
      "==> Computing CQT of taylorswift_query54\n",
      "==> Computing CQT of taylorswift_query55\n",
      "==> Computing CQT of taylorswift_query56\n",
      "==> Computing CQT of taylorswift_query57\n",
      "==> Computing CQT of taylorswift_query58\n",
      "==> Computing CQT of taylorswift_query59\n",
      "==> Computing CQT of taylorswift_query60\n",
      "==> Computing CQT of taylorswift_query61\n",
      "==> Computing CQT of taylorswift_query62\n",
      "==> Computing CQT of taylorswift_query63\n",
      "==> Computing CQT of taylorswift_query64\n",
      "==> Computing CQT of taylorswift_query65\n",
      "==> Computing CQT of taylorswift_query66\n",
      "==> Computing CQT of taylorswift_query67\n",
      "==> Computing CQT of taylorswift_query68\n",
      "==> Computing CQT of taylorswift_query69\n",
      "==> Computing CQT of taylorswift_query70\n",
      "==> Computing CQT of taylorswift_query71\n",
      "==> Computing CQT of taylorswift_query72\n",
      "==> Computing CQT of taylorswift_query73\n",
      "==> Computing CQT of taylorswift_query74\n",
      "==> Computing CQT of taylorswift_query75\n",
      "==> Computing CQT of taylorswift_query76\n",
      "==> Computing CQT of taylorswift_query77\n",
      "==> Computing CQT of taylorswift_query78\n",
      "==> Computing CQT of taylorswift_query79\n",
      "==> Computing CQT of taylorswift_query80\n",
      "==> Computing CQT of taylorswift_query81\n",
      "==> Computing CQT of taylorswift_query82\n",
      "==> Computing CQT of taylorswift_query83\n",
      "==> Computing CQT of taylorswift_query84\n",
      "==> Computing CQT of taylorswift_query85\n",
      "==> Computing CQT of taylorswift_query86\n",
      "==> Computing CQT of taylorswift_query87\n",
      "==> Computing CQT of taylorswift_query88\n",
      "==> Computing CQT of taylorswift_query89\n",
      "==> Computing CQT of taylorswift_query90\n",
      "==> Computing CQT of taylorswift_query91\n",
      "==> Computing CQT of taylorswift_query92\n",
      "==> Computing CQT of taylorswift_query93\n",
      "==> Computing CQT of taylorswift_query94\n",
      "==> Computing CQT of taylorswift_query95\n",
      "==> Computing CQT of taylorswift_query96\n",
      "==> Computing CQT of taylorswift_query97\n",
      "==> Computing CQT of taylorswift_query98\n",
      "==> Computing CQT of taylorswift_query99\n",
      "==> Computing CQT of taylorswift_query100\n"
     ]
    }
   ],
   "source": [
    "query_paths = get_allpaths(artist, list_dir, file_type='query')\n",
    "def get_query_shape():\n",
    "    '''\n",
    "        returns the shape of query file in (width, height)\n",
    "    '''\n",
    "    assert len(query_paths) > 0\n",
    "    cur_file = query_paths[0]\n",
    "    y, sr = librosa.load(audio_path + cur_file + '.wav')\n",
    "    Q = librosa.cqt(y, sr=sr, fmin=130.81, n_bins=121, bins_per_octave=24, hop_length=96)\n",
    "    logQ = preprocess(Q, 3)\n",
    "    return logQ.T.shape\n",
    "\n",
    "query_shape = get_query_shape()\n",
    "querys = np.empty((len(query_paths), ) + query_shape)\n",
    "\n",
    "for i in range(len(query_paths)):\n",
    "    cur_file = query_paths[i]\n",
    "    print('==> Computing CQT of %s'%cur_file)\n",
    "    y, sr = librosa.load(audio_path + cur_file + '.wav')\n",
    "    Q = librosa.cqt(y, sr=sr, fmin=130.81, n_bins=121, bins_per_octave=24, hop_length=96)\n",
    "    logQ = preprocess(Q, 3)\n",
    "    querys[i, :, :] = logQ.T\n",
    "\n",
    "conv_1d_net = build_model(pca_matrix, query_shape, delta=delta)\n",
    "fpseqs = run_model(conv_1d_net, querys)\n",
    "delta_fp = fpseqs[:, :, :fpseqs.shape[2] - delta] - fpseqs[:, :, delta:]\n",
    "query_reps = np.where(delta_fp > 0, 1, 0)\n",
    "    "
   ]
  },
  {
   "cell_type": "markdown",
   "metadata": {},
   "source": [
    "Then, we run the cross-correlation search algorithm on each of the query representation:"
   ]
  },
  {
   "cell_type": "code",
   "execution_count": 16,
   "metadata": {
    "ExecuteTime": {
     "end_time": "2018-02-09T08:12:18.273703Z",
     "start_time": "2018-02-09T07:49:25.656394Z"
    }
   },
   "outputs": [
    {
     "name": "stdout",
     "output_type": "stream",
     "text": [
      "==> Searching query 0\n",
      "\t-- Time elapsed: 19 seconds\n",
      "==> Searching query 1\n",
      "\t-- Time elapsed: 18 seconds\n",
      "==> Searching query 2\n",
      "\t-- Time elapsed: 18 seconds\n",
      "==> Searching query 3\n",
      "\t-- Time elapsed: 19 seconds\n",
      "==> Searching query 4\n",
      "\t-- Time elapsed: 18 seconds\n",
      "==> Searching query 5\n",
      "\t-- Time elapsed: 20 seconds\n",
      "==> Searching query 6\n",
      "\t-- Time elapsed: 19 seconds\n",
      "==> Searching query 7\n",
      "\t-- Time elapsed: 18 seconds\n",
      "==> Searching query 8\n",
      "\t-- Time elapsed: 18 seconds\n",
      "==> Searching query 9\n",
      "\t-- Time elapsed: 19 seconds\n",
      "==> Searching query 10\n",
      "\t-- Time elapsed: 18 seconds\n",
      "==> Searching query 11\n",
      "\t-- Time elapsed: 19 seconds\n",
      "==> Searching query 12\n",
      "\t-- Time elapsed: 19 seconds\n",
      "==> Searching query 13\n",
      "\t-- Time elapsed: 18 seconds\n",
      "==> Searching query 14\n",
      "\t-- Time elapsed: 19 seconds\n",
      "==> Searching query 15\n",
      "\t-- Time elapsed: 18 seconds\n",
      "==> Searching query 16\n",
      "\t-- Time elapsed: 18 seconds\n",
      "==> Searching query 17\n",
      "\t-- Time elapsed: 18 seconds\n",
      "==> Searching query 18\n",
      "\t-- Time elapsed: 18 seconds\n",
      "==> Searching query 19\n",
      "\t-- Time elapsed: 18 seconds\n",
      "==> Searching query 20\n",
      "\t-- Time elapsed: 18 seconds\n",
      "==> Searching query 21\n",
      "\t-- Time elapsed: 18 seconds\n",
      "==> Searching query 22\n",
      "\t-- Time elapsed: 19 seconds\n",
      "==> Searching query 23\n",
      "\t-- Time elapsed: 18 seconds\n",
      "==> Searching query 24\n",
      "\t-- Time elapsed: 18 seconds\n",
      "==> Searching query 25\n",
      "\t-- Time elapsed: 18 seconds\n",
      "==> Searching query 26\n",
      "\t-- Time elapsed: 19 seconds\n",
      "==> Searching query 27\n",
      "\t-- Time elapsed: 18 seconds\n",
      "==> Searching query 28\n",
      "\t-- Time elapsed: 18 seconds\n",
      "==> Searching query 29\n",
      "\t-- Time elapsed: 19 seconds\n",
      "==> Searching query 30\n",
      "\t-- Time elapsed: 18 seconds\n",
      "==> Searching query 31\n",
      "\t-- Time elapsed: 18 seconds\n",
      "==> Searching query 32\n",
      "\t-- Time elapsed: 19 seconds\n",
      "==> Searching query 33\n",
      "\t-- Time elapsed: 18 seconds\n",
      "==> Searching query 34\n",
      "\t-- Time elapsed: 18 seconds\n",
      "==> Searching query 35\n",
      "\t-- Time elapsed: 19 seconds\n",
      "==> Searching query 36\n",
      "\t-- Time elapsed: 18 seconds\n",
      "==> Searching query 37\n",
      "\t-- Time elapsed: 19 seconds\n",
      "==> Searching query 38\n",
      "\t-- Time elapsed: 18 seconds\n",
      "==> Searching query 39\n",
      "\t-- Time elapsed: 19 seconds\n",
      "==> Searching query 40\n",
      "\t-- Time elapsed: 18 seconds\n",
      "==> Searching query 41\n",
      "\t-- Time elapsed: 19 seconds\n",
      "==> Searching query 42\n",
      "\t-- Time elapsed: 18 seconds\n",
      "==> Searching query 43\n",
      "\t-- Time elapsed: 18 seconds\n",
      "==> Searching query 44\n",
      "\t-- Time elapsed: 19 seconds\n",
      "==> Searching query 45\n",
      "\t-- Time elapsed: 18 seconds\n",
      "==> Searching query 46\n",
      "\t-- Time elapsed: 18 seconds\n",
      "==> Searching query 47\n",
      "\t-- Time elapsed: 18 seconds\n",
      "==> Searching query 48\n",
      "\t-- Time elapsed: 20 seconds\n",
      "==> Searching query 49\n",
      "\t-- Time elapsed: 18 seconds\n",
      "==> Searching query 50\n",
      "\t-- Time elapsed: 20 seconds\n",
      "==> Searching query 51\n",
      "\t-- Time elapsed: 19 seconds\n",
      "==> Searching query 52\n",
      "\t-- Time elapsed: 18 seconds\n",
      "==> Searching query 53\n",
      "\t-- Time elapsed: 18 seconds\n",
      "==> Searching query 54\n",
      "\t-- Time elapsed: 18 seconds\n",
      "==> Searching query 55\n",
      "\t-- Time elapsed: 18 seconds\n",
      "==> Searching query 56\n",
      "\t-- Time elapsed: 18 seconds\n",
      "==> Searching query 57\n",
      "\t-- Time elapsed: 18 seconds\n",
      "==> Searching query 58\n",
      "\t-- Time elapsed: 18 seconds\n",
      "==> Searching query 59\n",
      "\t-- Time elapsed: 19 seconds\n",
      "==> Searching query 60\n",
      "\t-- Time elapsed: 18 seconds\n",
      "==> Searching query 61\n",
      "\t-- Time elapsed: 18 seconds\n",
      "==> Searching query 62\n",
      "\t-- Time elapsed: 18 seconds\n",
      "==> Searching query 63\n",
      "\t-- Time elapsed: 18 seconds\n",
      "==> Searching query 64\n",
      "\t-- Time elapsed: 18 seconds\n",
      "==> Searching query 65\n",
      "\t-- Time elapsed: 19 seconds\n",
      "==> Searching query 66\n",
      "\t-- Time elapsed: 18 seconds\n",
      "==> Searching query 67\n",
      "\t-- Time elapsed: 18 seconds\n",
      "==> Searching query 68\n",
      "\t-- Time elapsed: 18 seconds\n",
      "==> Searching query 69\n",
      "\t-- Time elapsed: 18 seconds\n",
      "==> Searching query 70\n",
      "\t-- Time elapsed: 18 seconds\n",
      "==> Searching query 71\n",
      "\t-- Time elapsed: 18 seconds\n",
      "==> Searching query 72\n",
      "\t-- Time elapsed: 18 seconds\n",
      "==> Searching query 73\n",
      "\t-- Time elapsed: 19 seconds\n",
      "==> Searching query 74\n",
      "\t-- Time elapsed: 18 seconds\n",
      "==> Searching query 75\n",
      "\t-- Time elapsed: 19 seconds\n",
      "==> Searching query 76\n",
      "\t-- Time elapsed: 18 seconds\n",
      "==> Searching query 77\n",
      "\t-- Time elapsed: 18 seconds\n",
      "==> Searching query 78\n",
      "\t-- Time elapsed: 18 seconds\n",
      "==> Searching query 79\n",
      "\t-- Time elapsed: 18 seconds\n",
      "==> Searching query 80\n",
      "\t-- Time elapsed: 18 seconds\n",
      "==> Searching query 81\n",
      "\t-- Time elapsed: 18 seconds\n",
      "==> Searching query 82\n",
      "\t-- Time elapsed: 19 seconds\n",
      "==> Searching query 83\n",
      "\t-- Time elapsed: 18 seconds\n",
      "==> Searching query 84\n",
      "\t-- Time elapsed: 18 seconds\n",
      "==> Searching query 85\n",
      "\t-- Time elapsed: 19 seconds\n",
      "==> Searching query 86\n",
      "\t-- Time elapsed: 18 seconds\n",
      "==> Searching query 87\n",
      "\t-- Time elapsed: 18 seconds\n",
      "==> Searching query 88\n",
      "\t-- Time elapsed: 19 seconds\n",
      "==> Searching query 89\n",
      "\t-- Time elapsed: 18 seconds\n",
      "==> Searching query 90\n",
      "\t-- Time elapsed: 18 seconds\n",
      "==> Searching query 91\n",
      "\t-- Time elapsed: 18 seconds\n",
      "==> Searching query 92\n",
      "\t-- Time elapsed: 18 seconds\n",
      "==> Searching query 93\n",
      "\t-- Time elapsed: 20 seconds\n",
      "==> Searching query 94\n",
      "\t-- Time elapsed: 18 seconds\n",
      "==> Searching query 95\n",
      "\t-- Time elapsed: 19 seconds\n",
      "==> Searching query 96\n",
      "\t-- Time elapsed: 19 seconds\n",
      "==> Searching query 97\n",
      "\t-- Time elapsed: 18 seconds\n",
      "==> Searching query 98\n",
      "\t-- Time elapsed: 19 seconds\n",
      "==> Searching query 99\n",
      "\t-- Time elapsed: 20 seconds\n",
      "==> MRR for taylorswift is 0.653498\n"
     ]
    }
   ],
   "source": [
    "querys = [q for q in query_reps]\n",
    "refs = list(db.values())\n",
    "ground_truths = get_querytoref(artist, list_dir)\n",
    "mrr = calculateMRR(querys, refs, ground_truths)\n",
    "print('==> MRR for %s is %f'%(artist, mrr))"
   ]
  },
  {
   "cell_type": "code",
   "execution_count": null,
   "metadata": {
    "collapsed": true
   },
   "outputs": [],
   "source": []
  }
 ],
 "metadata": {
  "celltoolbar": "Edit Metadata",
  "kernelspec": {
   "display_name": "Python 3",
   "language": "python",
   "name": "python3"
  },
  "language_info": {
   "codemirror_mode": {
    "name": "ipython",
    "version": 3
   },
   "file_extension": ".py",
   "mimetype": "text/x-python",
   "name": "python",
   "nbconvert_exporter": "python",
   "pygments_lexer": "ipython3",
   "version": "3.6.3"
  },
  "toc": {
   "nav_menu": {},
   "number_sections": true,
   "sideBar": true,
   "skip_h1_title": false,
   "toc_cell": false,
   "toc_position": {},
   "toc_section_display": "block",
   "toc_window_display": false
  }
 },
 "nbformat": 4,
 "nbformat_minor": 2
}
