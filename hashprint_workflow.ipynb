{
 "cells": [
  {
   "cell_type": "markdown",
   "metadata": {},
   "source": [
    "# Known-Artist Live Song ID: A Hashprint Approach\n",
    "\n",
    "This notebook is a python implementation of the [original matlab version] (http://pages.hmc.edu/ttsai/assets/livesongid.tar.gz). The pipeline consists of the following modules:\n",
    "\n",
    "1. Preprocessing with Constant-Q Transform (CQT)\n",
    "2. Learning PCA filters\n",
    "3. Obtaining hashprint representation by applying PCA filters to preprocessed CQT matrix\n",
    "4. Generating database with the hashprint of pitch-shifted CQT matrix of reference tracks\n",
    "5. Matching query against database"
   ]
  },
  {
   "cell_type": "code",
   "execution_count": 1,
   "metadata": {
    "ExecuteTime": {
     "end_time": "2018-02-06T08:06:07.337072Z",
     "start_time": "2018-02-06T08:06:07.328592Z"
    }
   },
   "outputs": [
    {
     "name": "stdout",
     "output_type": "stream",
     "text": [
      "/home/zhwang/workspace/live-song-id\n"
     ]
    }
   ],
   "source": [
    "GIT_DIR = '/home/zhwang/workspace/live-song-id/'\n",
    "%cd $GIT_DIR"
   ]
  },
  {
   "cell_type": "markdown",
   "metadata": {},
   "source": [
    "## Data Preprocessing\n",
    "\n",
    "For a given artist, we first preprocess the list of reference tracks by taking CQT transform for each audio file."
   ]
  },
  {
   "cell_type": "code",
   "execution_count": 2,
   "metadata": {
    "ExecuteTime": {
     "end_time": "2018-02-06T08:06:08.043633Z",
     "start_time": "2018-02-06T08:06:07.339845Z"
    },
    "collapsed": true
   },
   "outputs": [],
   "source": [
    "from preprocess import *\n",
    "import os"
   ]
  },
  {
   "cell_type": "code",
   "execution_count": 3,
   "metadata": {
    "ExecuteTime": {
     "end_time": "2018-02-06T08:06:08.177331Z",
     "start_time": "2018-02-06T08:06:08.045694Z"
    }
   },
   "outputs": [
    {
     "name": "stdout",
     "output_type": "stream",
     "text": [
      "/data1/zhwang/livesong_results\n",
      "mkdir: cannot create directory '/home/zhwang/ttemp/livesong_results/taylorswift_out': File exists\n",
      "/data1/zhwang/livesong_results/taylorswift_out\n"
     ]
    }
   ],
   "source": [
    "# audio_path - where audio files are stored\n",
    "# list_dir - where list of softlinks are stored\n",
    "# cqt_dir - where results will be stored\n",
    "audio_path = '/home/nbanerjee/SoftLinks/'\n",
    "list_dir = audio_path + '/Lists/'\n",
    "cqt_dir = '/home/zhwang/ttemp/livesong_results/' # change this\n",
    "artist = 'taylorswift'\n",
    "out_dir = os.path.join(cqt_dir, artist+'_out')\n",
    "file_paths = get_allpaths(artist, list_dir)\n",
    "\n",
    "%cd $cqt_dir\n",
    "%mkdir $out_dir\n",
    "%cd $out_dir"
   ]
  },
  {
   "cell_type": "code",
   "execution_count": null,
   "metadata": {
    "collapsed": true,
    "deletable": false,
    "editable": false,
    "run_control": {
     "frozen": true
    }
   },
   "outputs": [],
   "source": [
    "f = open(artist + '_cqtList.txt', 'w')\n",
    "for cur_file in file_paths:\n",
    "    print('==> Taking CQT of %s'%cur_file)\n",
    "    y, sr = librosa.load(audio_path + cur_file + '.wav')\n",
    "    Q = librosa.cqt(y, sr=sr, fmin=130.81, n_bins=121, bins_per_octave=24)\n",
    "    logQ = preprocess(Q, 3)\n",
    "    cur_file_path = os.path.join(os.getcwd(), cur_file + '.dat')\n",
    "    np.savetxt(cur_file_path, logQ)\n",
    "    f.write(cur_file_path + '\\n')\n",
    "f.close()\n"
   ]
  },
  {
   "cell_type": "markdown",
   "metadata": {},
   "source": [
    "## Learning PCA Filters"
   ]
  },
  {
   "cell_type": "code",
   "execution_count": 4,
   "metadata": {
    "ExecuteTime": {
     "end_time": "2018-02-06T08:06:08.187372Z",
     "start_time": "2018-02-06T08:06:08.180573Z"
    }
   },
   "outputs": [
    {
     "name": "stdout",
     "output_type": "stream",
     "text": [
      "/home/zhwang/workspace/live-song-id\n"
     ]
    }
   ],
   "source": [
    "%cd $GIT_DIR\n",
    "from PCA import *"
   ]
  },
  {
   "cell_type": "markdown",
   "metadata": {},
   "source": [
    "Next, we generate the filters for the hashprint representation by taking PCA on the covariance matrix for all reference songs for this artist. First, we compute the covariance matrix:"
   ]
  },
  {
   "cell_type": "code",
   "execution_count": null,
   "metadata": {
    "collapsed": true
   },
   "outputs": [],
   "source": [
    "f = open(os.path.join(out_dir, artist + '_cqtList.txt'), 'r')\n",
    "num_features = 64\n",
    "nbins = 121\n",
    "m = 20 # number of frames"
   ]
  },
  {
   "cell_type": "code",
   "execution_count": 8,
   "metadata": {
    "ExecuteTime": {
     "end_time": "2018-02-06T08:17:09.628128Z",
     "start_time": "2018-02-06T08:15:47.324859Z"
    },
    "deletable": false,
    "editable": false,
    "run_control": {
     "frozen": true
    }
   },
   "outputs": [
    {
     "name": "stdout",
     "output_type": "stream",
     "text": [
      "==> Computing covariance matrix for taylorswift_ref1.dat\n",
      "\n",
      "==> Computing covariance matrix for taylorswift_ref2.dat\n",
      "\n",
      "==> Computing covariance matrix for taylorswift_ref3.dat\n",
      "\n",
      "==> Computing covariance matrix for taylorswift_ref4.dat\n",
      "\n",
      "==> Computing covariance matrix for taylorswift_ref5.dat\n",
      "\n",
      "==> Computing covariance matrix for taylorswift_ref6.dat\n",
      "\n",
      "==> Computing covariance matrix for taylorswift_ref7.dat\n",
      "\n",
      "==> Computing covariance matrix for taylorswift_ref8.dat\n",
      "\n",
      "==> Computing covariance matrix for taylorswift_ref9.dat\n",
      "\n",
      "==> Computing covariance matrix for taylorswift_ref10.dat\n",
      "\n",
      "==> Computing covariance matrix for taylorswift_ref11.dat\n",
      "\n",
      "==> Computing covariance matrix for taylorswift_ref12.dat\n",
      "\n",
      "==> Computing covariance matrix for taylorswift_ref13.dat\n",
      "\n",
      "==> Computing covariance matrix for taylorswift_ref14.dat\n",
      "\n",
      "==> Computing covariance matrix for taylorswift_ref15.dat\n",
      "\n",
      "==> Computing covariance matrix for taylorswift_ref16.dat\n",
      "\n",
      "==> Computing covariance matrix for taylorswift_ref17.dat\n",
      "\n",
      "==> Computing covariance matrix for taylorswift_ref18.dat\n",
      "\n",
      "==> Computing covariance matrix for taylorswift_ref19.dat\n",
      "\n",
      "==> Computing covariance matrix for taylorswift_ref20.dat\n",
      "\n",
      "==> Computing covariance matrix for taylorswift_ref21.dat\n",
      "\n",
      "==> Computing covariance matrix for taylorswift_ref22.dat\n",
      "\n",
      "==> Computing covariance matrix for taylorswift_ref23.dat\n",
      "\n",
      "==> Computing covariance matrix for taylorswift_ref24.dat\n",
      "\n",
      "==> Computing covariance matrix for taylorswift_ref25.dat\n",
      "\n",
      "==> Computing covariance matrix for taylorswift_ref26.dat\n",
      "\n",
      "==> Computing covariance matrix for taylorswift_ref27.dat\n",
      "\n",
      "==> Computing covariance matrix for taylorswift_ref28.dat\n",
      "\n",
      "==> Computing covariance matrix for taylorswift_ref29.dat\n",
      "\n",
      "==> Computing covariance matrix for taylorswift_ref30.dat\n",
      "\n",
      "==> Computing covariance matrix for taylorswift_ref31.dat\n",
      "\n",
      "==> Computing covariance matrix for taylorswift_ref32.dat\n",
      "\n",
      "==> Computing covariance matrix for taylorswift_ref33.dat\n",
      "\n",
      "==> Computing covariance matrix for taylorswift_ref34.dat\n",
      "\n",
      "==> Computing covariance matrix for taylorswift_ref35.dat\n",
      "\n",
      "==> Computing covariance matrix for taylorswift_ref36.dat\n",
      "\n",
      "==> Computing covariance matrix for taylorswift_ref37.dat\n",
      "\n",
      "==> Computing covariance matrix for taylorswift_ref38.dat\n",
      "\n",
      "==> Computing covariance matrix for taylorswift_ref39.dat\n",
      "\n",
      "==> Computing covariance matrix for taylorswift_ref40.dat\n",
      "\n",
      "==> Computing covariance matrix for taylorswift_ref41.dat\n",
      "\n",
      "==> Computing covariance matrix for taylorswift_ref42.dat\n",
      "\n",
      "==> Computing covariance matrix for taylorswift_ref43.dat\n",
      "\n",
      "==> Computing covariance matrix for taylorswift_ref44.dat\n",
      "\n",
      "==> Computing covariance matrix for taylorswift_ref45.dat\n",
      "\n",
      "==> Computing covariance matrix for taylorswift_ref46.dat\n",
      "\n",
      "==> Computing covariance matrix for taylorswift_ref47.dat\n",
      "\n",
      "==> Computing covariance matrix for taylorswift_ref48.dat\n",
      "\n",
      "==> Computing covariance matrix for taylorswift_ref49.dat\n",
      "\n",
      "==> Computing covariance matrix for taylorswift_ref50.dat\n",
      "\n",
      "==> Computing covariance matrix for taylorswift_ref51.dat\n",
      "\n",
      "==> Computing covariance matrix for taylorswift_ref52.dat\n",
      "\n",
      "==> Computing covariance matrix for taylorswift_ref53.dat\n",
      "\n",
      "==> Computing covariance matrix for taylorswift_ref54.dat\n",
      "\n",
      "==> Computing covariance matrix for taylorswift_ref55.dat\n",
      "\n",
      "==> Computing covariance matrix for taylorswift_ref56.dat\n",
      "\n",
      "==> Computing covariance matrix for taylorswift_ref57.dat\n",
      "\n",
      "==> Computing covariance matrix for taylorswift_ref58.dat\n",
      "\n",
      "==> Computing covariance matrix for taylorswift_ref59.dat\n",
      "\n",
      "==> Computing covariance matrix for taylorswift_ref60.dat\n",
      "\n",
      "==> Computing covariance matrix for taylorswift_ref61.dat\n",
      "\n",
      "==> Computing covariance matrix for taylorswift_ref62.dat\n",
      "\n",
      "==> Computing covariance matrix for taylorswift_ref63.dat\n",
      "\n",
      "==> Computing covariance matrix for taylorswift_ref64.dat\n",
      "\n",
      "==> Computing covariance matrix for taylorswift_ref65.dat\n",
      "\n",
      "==> Computing covariance matrix for taylorswift_ref66.dat\n",
      "\n",
      "==> Computing covariance matrix for taylorswift_ref67.dat\n",
      "\n",
      "==> Computing covariance matrix for taylorswift_ref68.dat\n",
      "\n",
      "==> Computing covariance matrix for taylorswift_ref69.dat\n",
      "\n",
      "==> Computing covariance matrix for taylorswift_ref70.dat\n",
      "\n",
      "==> Computing covariance matrix for taylorswift_ref71.dat\n",
      "\n"
     ]
    }
   ],
   "source": [
    "accum_cov = np.zeros((nbins * m, nbins * m))\n",
    "count = 0\n",
    "\n",
    "for line in f:\n",
    "    print('==> Computing covariance matrix for %s'%(os.path.basename(line)))\n",
    "    Q = np.loadtxt(line[:-1])\n",
    "    A = getTDE(Q)\n",
    "    if A.shape[1] > 1:\n",
    "        accum_cov += np.cov(A.T)\n",
    "    count += 1\n",
    "f.close()"
   ]
  },
  {
   "cell_type": "markdown",
   "metadata": {},
   "source": [
    "Next, we compute PCA from these covariance matrices."
   ]
  },
  {
   "cell_type": "code",
   "execution_count": 14,
   "metadata": {
    "ExecuteTime": {
     "end_time": "2018-02-06T08:19:49.862783Z",
     "start_time": "2018-02-06T08:19:48.421208Z"
    },
    "collapsed": true,
    "deletable": false,
    "editable": false,
    "run_control": {
     "frozen": true
    }
   },
   "outputs": [],
   "source": [
    "evals, evecs = LA.eig(accum_cov / count)\n",
    "ind = np.argsort(-evals)\n",
    "evecs = (evecs[:, ind])[:, :num_features]\n",
    "np.savetxt(os.path.join(out_dir, artistst + '_model.dat'), evecs)"
   ]
  },
  {
   "cell_type": "markdown",
   "metadata": {},
   "source": [
    "## Applying Filters to CQT Matrix"
   ]
  },
  {
   "cell_type": "code",
   "execution_count": null,
   "metadata": {
    "collapsed": true
   },
   "outputs": [],
   "source": []
  },
  {
   "cell_type": "markdown",
   "metadata": {},
   "source": [
    "## Generating Database"
   ]
  },
  {
   "cell_type": "code",
   "execution_count": null,
   "metadata": {
    "collapsed": true
   },
   "outputs": [],
   "source": []
  },
  {
   "cell_type": "markdown",
   "metadata": {},
   "source": [
    "## Matching Query Against Database"
   ]
  },
  {
   "cell_type": "code",
   "execution_count": null,
   "metadata": {
    "collapsed": true
   },
   "outputs": [],
   "source": []
  }
 ],
 "metadata": {
  "kernelspec": {
   "display_name": "Python 3",
   "language": "python",
   "name": "python3"
  },
  "language_info": {
   "codemirror_mode": {
    "name": "ipython",
    "version": 3
   },
   "file_extension": ".py",
   "mimetype": "text/x-python",
   "name": "python",
   "nbconvert_exporter": "python",
   "pygments_lexer": "ipython3",
   "version": "3.6.3"
  },
  "toc": {
   "nav_menu": {},
   "number_sections": true,
   "sideBar": true,
   "skip_h1_title": false,
   "toc_cell": false,
   "toc_position": {},
   "toc_section_display": "block",
   "toc_window_display": false
  }
 },
 "nbformat": 4,
 "nbformat_minor": 2
}
