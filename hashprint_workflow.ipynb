{
 "cells": [
  {
   "cell_type": "markdown",
   "metadata": {},
   "source": [
    "# Known-Artist Live Song ID: A Hashprint Approach\n",
    "\n",
    "This notebook is a python implementation of the [original matlab version] (http://pages.hmc.edu/ttsai/assets/livesongid.tar.gz). The pipeline consists of the following modules:\n",
    "\n",
    "1. Preprocessing with Constant-Q Transform (CQT)\n",
    "2. Learning PCA filters\n",
    "3. Obtaining hashprint representation by applying PCA filters to preprocessed CQT matrix\n",
    "4. Generating database with the hashprint of pitch-shifted CQT matrix of reference tracks\n",
    "5. Matching query against database"
   ]
  },
  {
   "cell_type": "code",
   "execution_count": 1,
   "metadata": {},
   "outputs": [
    {
     "name": "stdout",
     "output_type": "stream",
     "text": [
      "/home/zhwang/workspace/live-song-id\n"
     ]
    }
   ],
   "source": [
    "GIT_DIR = '/home/zhwang/workspace/live-song-id/'\n",
    "%cd $GIT_DIR"
   ]
  },
  {
   "cell_type": "markdown",
   "metadata": {},
   "source": [
    "## Data Preprocessing\n",
    "\n",
    "For a given artist, we first preprocess the list of reference tracks by taking CQT transform for each audio file."
   ]
  },
  {
   "cell_type": "code",
   "execution_count": 7,
   "metadata": {
    "collapsed": true
   },
   "outputs": [],
   "source": [
    "from preprocess import *\n",
    "import os"
   ]
  },
  {
   "cell_type": "code",
   "execution_count": 8,
   "metadata": {},
   "outputs": [
    {
     "name": "stdout",
     "output_type": "stream",
     "text": [
      "/data1/zhwang/livesong_results\n",
      "mkdir: cannot create directory '/home/zhwang/ttemp/livesong_results/taylorswift_out': File exists\n",
      "/data1/zhwang/livesong_results/taylorswift_out\n"
     ]
    }
   ],
   "source": [
    "# audio_path - where audio files are stored\n",
    "# list_dir - where list of softlinks are stored\n",
    "# cqt_dir - where results will be stored\n",
    "audio_path = '/home/nbanerjee/SoftLinks/'\n",
    "list_dir = audio_path + '/Lists/'\n",
    "cqt_dir = '/home/zhwang/ttemp/livesong_results/' # change this\n",
    "artist = 'taylorswift'\n",
    "out_dir = os.path.join(cqt_dir, artist+'_out')\n",
    "file_paths = get_allpaths(artist, list_dir)\n",
    "\n",
    "%cd $cqt_dir\n",
    "%mkdir $out_dir\n",
    "%cd $out_dir"
   ]
  },
  {
   "cell_type": "code",
   "execution_count": 10,
   "metadata": {},
   "outputs": [
    {
     "name": "stdout",
     "output_type": "stream",
     "text": [
      "==> Taking CQT of taylorswift_ref1\n",
      "==> Taking CQT of taylorswift_ref2\n",
      "==> Taking CQT of taylorswift_ref3\n",
      "==> Taking CQT of taylorswift_ref4\n",
      "==> Taking CQT of taylorswift_ref5\n",
      "==> Taking CQT of taylorswift_ref6\n",
      "==> Taking CQT of taylorswift_ref7\n",
      "==> Taking CQT of taylorswift_ref8\n",
      "==> Taking CQT of taylorswift_ref9\n",
      "==> Taking CQT of taylorswift_ref10\n",
      "==> Taking CQT of taylorswift_ref11\n",
      "==> Taking CQT of taylorswift_ref12\n",
      "==> Taking CQT of taylorswift_ref13\n",
      "==> Taking CQT of taylorswift_ref14\n",
      "==> Taking CQT of taylorswift_ref15\n",
      "==> Taking CQT of taylorswift_ref16\n",
      "==> Taking CQT of taylorswift_ref17\n",
      "==> Taking CQT of taylorswift_ref18\n",
      "==> Taking CQT of taylorswift_ref19\n",
      "==> Taking CQT of taylorswift_ref20\n",
      "==> Taking CQT of taylorswift_ref21\n",
      "==> Taking CQT of taylorswift_ref22\n",
      "==> Taking CQT of taylorswift_ref23\n",
      "==> Taking CQT of taylorswift_ref24\n",
      "==> Taking CQT of taylorswift_ref25\n",
      "==> Taking CQT of taylorswift_ref26\n",
      "==> Taking CQT of taylorswift_ref27\n",
      "==> Taking CQT of taylorswift_ref28\n",
      "==> Taking CQT of taylorswift_ref29\n",
      "==> Taking CQT of taylorswift_ref30\n",
      "==> Taking CQT of taylorswift_ref31\n",
      "==> Taking CQT of taylorswift_ref32\n",
      "==> Taking CQT of taylorswift_ref33\n",
      "==> Taking CQT of taylorswift_ref34\n",
      "==> Taking CQT of taylorswift_ref35\n",
      "==> Taking CQT of taylorswift_ref36\n",
      "==> Taking CQT of taylorswift_ref37\n",
      "==> Taking CQT of taylorswift_ref38\n",
      "==> Taking CQT of taylorswift_ref39\n",
      "==> Taking CQT of taylorswift_ref40\n",
      "==> Taking CQT of taylorswift_ref41\n",
      "==> Taking CQT of taylorswift_ref42\n",
      "==> Taking CQT of taylorswift_ref43\n",
      "==> Taking CQT of taylorswift_ref44\n",
      "==> Taking CQT of taylorswift_ref45\n",
      "==> Taking CQT of taylorswift_ref46\n",
      "==> Taking CQT of taylorswift_ref47\n",
      "==> Taking CQT of taylorswift_ref48\n",
      "==> Taking CQT of taylorswift_ref49\n",
      "==> Taking CQT of taylorswift_ref50\n",
      "==> Taking CQT of taylorswift_ref51\n",
      "==> Taking CQT of taylorswift_ref52\n",
      "==> Taking CQT of taylorswift_ref53\n",
      "==> Taking CQT of taylorswift_ref54\n",
      "==> Taking CQT of taylorswift_ref55\n",
      "==> Taking CQT of taylorswift_ref56\n",
      "==> Taking CQT of taylorswift_ref57\n",
      "==> Taking CQT of taylorswift_ref58\n",
      "==> Taking CQT of taylorswift_ref59\n",
      "==> Taking CQT of taylorswift_ref60\n",
      "==> Taking CQT of taylorswift_ref61\n",
      "==> Taking CQT of taylorswift_ref62\n",
      "==> Taking CQT of taylorswift_ref63\n",
      "==> Taking CQT of taylorswift_ref64\n",
      "==> Taking CQT of taylorswift_ref65\n",
      "==> Taking CQT of taylorswift_ref66\n",
      "==> Taking CQT of taylorswift_ref67\n",
      "==> Taking CQT of taylorswift_ref68\n",
      "==> Taking CQT of taylorswift_ref69\n",
      "==> Taking CQT of taylorswift_ref70\n",
      "==> Taking CQT of taylorswift_ref71\n"
     ]
    }
   ],
   "source": [
    "f = open(artist + '_cqtList.txt', 'w')\n",
    "for cur_file in file_paths:\n",
    "    print('==> Taking CQT of %s'%cur_file)\n",
    "    y, sr = librosa.load(audio_path + cur_file + '.wav')\n",
    "    Q = librosa.cqt(y, sr=sr, fmin=130.81, n_bins=121, bins_per_octave=24)\n",
    "    logQ = preprocess(Q, 3)\n",
    "    cur_file_path = os.path.join(os.getcwd(), cur_file + '.dat')\n",
    "    np.savetxt(cur_file_path, logQ)\n",
    "    f.write(cur_file_path + '\\n')\n",
    "f.close()\n",
    "\n"
   ]
  },
  {
   "cell_type": "markdown",
   "metadata": {},
   "source": [
    "## Learning PCA Filters"
   ]
  },
  {
   "cell_type": "code",
   "execution_count": 11,
   "metadata": {},
   "outputs": [
    {
     "name": "stdout",
     "output_type": "stream",
     "text": [
      "/home/zhwang/workspace/live-song-id\n"
     ]
    }
   ],
   "source": [
    "%cd $GIT_DIR"
   ]
  },
  {
   "cell_type": "markdown",
   "metadata": {},
   "source": [
    "## Applying Filters to CQT Matrix"
   ]
  },
  {
   "cell_type": "code",
   "execution_count": null,
   "metadata": {
    "collapsed": true
   },
   "outputs": [],
   "source": []
  },
  {
   "cell_type": "markdown",
   "metadata": {},
   "source": [
    "## Generating Database"
   ]
  },
  {
   "cell_type": "code",
   "execution_count": null,
   "metadata": {
    "collapsed": true
   },
   "outputs": [],
   "source": []
  },
  {
   "cell_type": "markdown",
   "metadata": {},
   "source": [
    "## Matching Query Against Database"
   ]
  },
  {
   "cell_type": "code",
   "execution_count": null,
   "metadata": {
    "collapsed": true
   },
   "outputs": [],
   "source": []
  }
 ],
 "metadata": {
  "kernelspec": {
   "display_name": "Python 2",
   "language": "python",
   "name": "python2"
  },
  "language_info": {
   "codemirror_mode": {
    "name": "ipython",
    "version": 2
   },
   "file_extension": ".py",
   "mimetype": "text/x-python",
   "name": "python",
   "nbconvert_exporter": "python",
   "pygments_lexer": "ipython2",
   "version": "2.7.14"
  }
 },
 "nbformat": 4,
 "nbformat_minor": 2
}
